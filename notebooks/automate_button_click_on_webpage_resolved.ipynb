{
 "cells": [
  {
   "cell_type": "code",
   "execution_count": 1,
   "metadata": {
    "tags": []
   },
   "outputs": [],
   "source": [
    "#!pip install selenium"
   ]
  },
  {
   "cell_type": "code",
   "execution_count": 2,
   "metadata": {
    "tags": []
   },
   "outputs": [],
   "source": [
    "from selenium import webdriver\n",
    "from selenium.webdriver.common.keys import Keys\n",
    "from selenium.webdriver.common.by import By\n",
    "import time\n",
    "from selenium.webdriver.chrome.service import Service\n",
    "from webdriver_manager.chrome import ChromeDriverManager"
   ]
  },
  {
   "cell_type": "code",
   "execution_count": 3,
   "metadata": {},
   "outputs": [
    {
     "name": "stderr",
     "output_type": "stream",
     "text": [
      "[WDM] - Downloading: 100%|█████████████████| 8.82M/8.82M [00:01<00:00, 6.75MB/s]\n"
     ]
    }
   ],
   "source": [
    "#example for 'radx-rad search term'\n",
    "driver = webdriver.Chrome(service=Service(ChromeDriverManager().install()))\n",
    "driver.get(f\"https://www.ncbi.nlm.nih.gov/gap/advanced_search/?TERM=radx-rad\")  \n",
    "driver.find_element(By.ID, \"id_svr_trigger\").click()"
   ]
  },
  {
   "cell_type": "code",
   "execution_count": 4,
   "metadata": {},
   "outputs": [],
   "source": [
    "## Note from Winfrey: The website requires a \"crawl delay\" of 10 seconds. "
   ]
  },
  {
   "cell_type": "code",
   "execution_count": 6,
   "metadata": {},
   "outputs": [
    {
     "name": "stdout",
     "output_type": "stream",
     "text": [
      "https://www.ncbi.nlm.nih.gov/gap/advanced_search/?TERM=radx-rad\n"
     ]
    }
   ],
   "source": [
    "#example: built as a loop so can handle multiple search terms\n",
    "driver = webdriver.Chrome(service=Service(ChromeDriverManager().install()))\n",
    "\n",
    "query_item = ['radx-rad'] # more items can be added to a list\n",
    "for i in query_item:\n",
    "    time.sleep(10) # Just to be safe, I am forcing the program to sleep 10 seconds every time we run the code\n",
    "    url = (f\"https://www.ncbi.nlm.nih.gov/gap/advanced_search/?TERM={i}\")\n",
    "    print(url)\n",
    "    driver.get(url) \n",
    "    driver.find_element(By.ID, \"id_svr_trigger\").click()"
   ]
  },
  {
   "cell_type": "code",
   "execution_count": null,
   "metadata": {},
   "outputs": [],
   "source": []
  }
 ],
 "metadata": {
  "kernelspec": {
   "display_name": "Python 3 (ipykernel)",
   "language": "python",
   "name": "python3"
  },
  "language_info": {
   "codemirror_mode": {
    "name": "ipython",
    "version": 3
   },
   "file_extension": ".py",
   "mimetype": "text/x-python",
   "name": "python",
   "nbconvert_exporter": "python",
   "pygments_lexer": "ipython3",
   "version": "3.8.16"
  }
 },
 "nbformat": 4,
 "nbformat_minor": 4
}
