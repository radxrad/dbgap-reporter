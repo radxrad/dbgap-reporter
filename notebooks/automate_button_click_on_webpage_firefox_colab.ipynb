{
 "cells": [
  {
   "cell_type": "code",
   "execution_count": 1,
   "metadata": {},
   "outputs": [],
   "source": [
    "# setup for Google Colab\n",
    "# see: https://stackoverflow.com/questions/51046454/how-can-we-use-selenium-webdriver-in-colab-research-google-com\n",
    "# https://stackoverflow.com/questions/75125487/selenium-chromedriver-not-working-with-google-colab-anymore-on-python-3-8-16\n",
    "# https://stackoverflow.com/questions/42204897/how-to-set-up-a-selenium-python-environment-for-firefox"
   ]
  },
  {
   "cell_type": "code",
   "execution_count": null,
   "metadata": {},
   "outputs": [],
   "source": [
    "!pip install selenium\n",
    "!apt-get update\n",
    "!apt-get install firefox"
   ]
  },
  {
   "cell_type": "code",
   "execution_count": 1,
   "metadata": {
    "tags": []
   },
   "outputs": [],
   "source": [
    "from selenium import webdriver\n",
    "from selenium.webdriver.common.by import By\n",
    "from selenium.webdriver import FirefoxOptions"
   ]
  },
  {
   "cell_type": "code",
   "execution_count": null,
   "metadata": {},
   "outputs": [],
   "source": [
    "def driversetup():\n",
    "    options = webdriver.FirefoxOptions()\n",
    "    #run Selenium in headless mode\n",
    "    options.add_argument('--headless')\n",
    "    #options.add_argument('--no-sandbox')\n",
    "    \n",
    "    driver = webdriver.Firefox(options=options)\n",
    "\n",
    "    return driver"
   ]
  },
  {
   "cell_type": "code",
   "execution_count": null,
   "metadata": {},
   "outputs": [],
   "source": [
    "driver = driversetup()"
   ]
  },
  {
   "cell_type": "code",
   "execution_count": 2,
   "metadata": {},
   "outputs": [
    {
     "name": "stdout",
     "output_type": "stream",
     "text": [
      "dbGaP Advanced Search\n"
     ]
    }
   ],
   "source": [
    "driver.get(\"https://www.ncbi.nlm.nih.gov/gap/advanced_search/?TERM=radx-rad\")\n",
    "time.sleep(3)\n",
    "print(driver.title)\n",
    "button = driver.find_element(By.CLASS_NAME, \"svr_container\")\n",
    "time.sleep(3)\n",
    "button.click()\n",
    "driver.close()"
   ]
  }
 ],
 "metadata": {
  "kernelspec": {
   "display_name": "Python 3 (ipykernel)",
   "language": "python",
   "name": "python3"
  },
  "language_info": {
   "codemirror_mode": {
    "name": "ipython",
    "version": 3
   },
   "file_extension": ".py",
   "mimetype": "text/x-python",
   "name": "python",
   "nbconvert_exporter": "python",
   "pygments_lexer": "ipython3",
   "version": "3.8.16"
  }
 },
 "nbformat": 4,
 "nbformat_minor": 4
}
