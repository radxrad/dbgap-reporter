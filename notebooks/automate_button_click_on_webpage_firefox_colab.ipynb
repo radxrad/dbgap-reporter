{
 "cells": [
  {
   "cell_type": "code",
   "execution_count": 1,
   "metadata": {},
   "outputs": [],
   "source": [
    "# setup for Google Colab\n",
    "# https://stackoverflow.com/questions/42204897/how-to-set-up-a-selenium-python-environment-for-firefox\n",
    "# https://stackoverflow.com/questions/60170311/how-to-switch-download-directory-using-selenium-firefox-python\n",
    "# https://stackoverflow.com/questions/71020401/python-selenium-firefox-trouble-with-download-directory\n",
    "# https://github.com/openZH/covid_19/issues/89"
   ]
  },
  {
   "cell_type": "code",
   "execution_count": null,
   "metadata": {},
   "outputs": [],
   "source": [
    "!pip install selenium\n",
    "!apt-get update\n",
    "!apt-get install firefox"
   ]
  },
  {
   "cell_type": "code",
   "execution_count": 1,
   "metadata": {
    "tags": []
   },
   "outputs": [],
   "source": [
    "import os\n",
    "import time\n",
    "from selenium import webdriver\n",
    "from selenium.webdriver.common.by import By\n",
    "from selenium.webdriver.firefox.options import Options"
   ]
  },
  {
   "cell_type": "code",
   "execution_count": null,
   "metadata": {},
   "outputs": [],
   "source": [
    "def driversetup():\n",
    "    options = Options()\n",
    "    #run Selenium in headless mode\n",
    "    options.add_argument(\"--headless\")\n",
    "    options.add_argument(\"--no-sandbox\")\n",
    "    # 0 means to download to the desktop, 1 means to download to the default \"Downloads\" directory, 2 means to use the directory\n",
    "    options.set_preference(\"browser.download.folderList\", 2)\n",
    "    options.set_preference(\"browser.download.manager.showWhenStarting\", False)\n",
    "    options.set_preference(\"browser.download.dir\", \"/tmp\")\n",
    "    options.set_preference(\"browser.helperApps.neverAsk.saveToDisk\", \"text/csv\")\n",
    "\n",
    "    driver = webdriver.Firefox(options=options)\n",
    "    driver.implicitly_wait(5)\n",
    "\n",
    "    return driver"
   ]
  },
  {
   "cell_type": "code",
   "execution_count": null,
   "metadata": {},
   "outputs": [],
   "source": [
    "driver = driversetup()"
   ]
  },
  {
   "cell_type": "code",
   "execution_count": 2,
   "metadata": {},
   "outputs": [
    {
     "name": "stdout",
     "output_type": "stream",
     "text": [
      "dbGaP Advanced Search\n"
     ]
    }
   ],
   "source": [
    "driver.get(\"https://www.ncbi.nlm.nih.gov/gap/advanced_search/?TERM=radx-rad\")\n",
    "time.sleep(3)\n",
    "print(driver.title)\n",
    "button = driver.find_element(By.CLASS_NAME, \"svr_container\")\n",
    "time.sleep(3)\n",
    "button.click() # csv file download doesn't seem to work. File is not in /tmp.\n",
    "time.sleep(15)\n",
    "driver.close()"
   ]
  },
  {
   "cell_type": "code",
   "execution_count": null,
   "metadata": {},
   "outputs": [],
   "source": [
    "# show downloaded file\n",
    "!ls /tmp/*.csv"
   ]
  }
 ],
 "metadata": {
  "kernelspec": {
   "display_name": "Python 3 (ipykernel)",
   "language": "python",
   "name": "python3"
  },
  "language_info": {
   "codemirror_mode": {
    "name": "ipython",
    "version": 3
   },
   "file_extension": ".py",
   "mimetype": "text/x-python",
   "name": "python",
   "nbconvert_exporter": "python",
   "pygments_lexer": "ipython3",
   "version": "3.8.16"
  }
 },
 "nbformat": 4,
 "nbformat_minor": 4
}
