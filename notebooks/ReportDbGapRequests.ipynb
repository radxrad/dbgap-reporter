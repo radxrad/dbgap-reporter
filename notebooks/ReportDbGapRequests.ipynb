{
 "cells": [
  {
   "cell_type": "code",
   "execution_count": 11,
   "id": "2991fd05-389b-4203-ba4b-1617ba4d7666",
   "metadata": {},
   "outputs": [],
   "source": [
    "import pandas as pd\n",
    "import ipywidgets as widgets\n",
    "from utils import download_dbgap_studies, get_authorized_requests"
   ]
  },
  {
   "cell_type": "code",
   "execution_count": 12,
   "id": "dc0e0f02-024a-4259-920a-a00054516c68",
   "metadata": {
    "tags": []
   },
   "outputs": [],
   "source": [
    "import pandas as pd\n",
    "pd.set_option('display.max_colwidth', None)"
   ]
  },
  {
   "cell_type": "code",
   "execution_count": 13,
   "id": "94089a8f-618b-430a-8a84-a953f7c47ec2",
   "metadata": {},
   "outputs": [],
   "source": [
    "style = {\"description_width\": \"initial\"}\n",
    "query_widget = widgets.Textarea(description=\"Enter query term:\", style=style)"
   ]
  },
  {
   "cell_type": "code",
   "execution_count": 21,
   "id": "9d706f2c-5114-430c-82b5-26cdab956c37",
   "metadata": {
    "tags": []
   },
   "outputs": [
    {
     "data": {
      "application/vnd.jupyter.widget-view+json": {
       "model_id": "9286f796f3fd49d6ab2c4e7a53ee468a",
       "version_major": 2,
       "version_minor": 0
      },
      "text/plain": [
       "Textarea(value='prostate cancer', description='Enter query term:', style=TextStyle(description_width='initial'…"
      ]
     },
     "metadata": {},
     "output_type": "display_data"
    }
   ],
   "source": [
    "display(query_widget)"
   ]
  },
  {
   "cell_type": "code",
   "execution_count": 22,
   "id": "1fd890c3-78e8-4ad0-9609-e7f682628f07",
   "metadata": {},
   "outputs": [
    {
     "name": "stdout",
     "output_type": "stream",
     "text": [
      "Query: prostate cancer\n"
     ]
    }
   ],
   "source": [
    "query = query_widget.value\n",
    "print(\"Query:\", query)"
   ]
  },
  {
   "cell_type": "code",
   "execution_count": 23,
   "id": "e7791041-ef74-4653-bdbc-c042ed448ae1",
   "metadata": {},
   "outputs": [],
   "source": [
    "filepath = \"studies.csv\"\n",
    "download_dbgap_studies(query, filepath)"
   ]
  },
  {
   "cell_type": "code",
   "execution_count": 24,
   "id": "4a471e72-af53-4f68-b11c-f6a33960a3e0",
   "metadata": {
    "tags": []
   },
   "outputs": [],
   "source": [
    "studies = pd.read_csv(filepath, usecols=[\"accession\", \"name\", \"description\", \"Study Design\", \"Study Consent\",])"
   ]
  },
  {
   "cell_type": "markdown",
   "id": "16106698-995a-4800-aeb0-9a14b73ddf32",
   "metadata": {},
   "source": [
    "## Table of Studies"
   ]
  },
  {
   "cell_type": "code",
   "execution_count": 25,
   "id": "82a725e0-c840-4854-a927-69b07836258b",
   "metadata": {
    "tags": []
   },
   "outputs": [
    {
     "name": "stdout",
     "output_type": "stream",
     "text": [
      "Number of studies for prostate cancer 98\n"
     ]
    },
    {
     "data": {
      "text/html": [
       "<div>\n",
       "<style scoped>\n",
       "    .dataframe tbody tr th:only-of-type {\n",
       "        vertical-align: middle;\n",
       "    }\n",
       "\n",
       "    .dataframe tbody tr th {\n",
       "        vertical-align: top;\n",
       "    }\n",
       "\n",
       "    .dataframe thead th {\n",
       "        text-align: right;\n",
       "    }\n",
       "</style>\n",
       "<table border=\"1\" class=\"dataframe\">\n",
       "  <thead>\n",
       "    <tr style=\"text-align: right;\">\n",
       "      <th></th>\n",
       "      <th>accession</th>\n",
       "      <th>name</th>\n",
       "      <th>description</th>\n",
       "      <th>Study Design</th>\n",
       "      <th>Study Consent</th>\n",
       "    </tr>\n",
       "  </thead>\n",
       "  <tbody>\n",
       "    <tr>\n",
       "      <th>0</th>\n",
       "      <td>phs001391.v1.p1</td>\n",
       "      <td>OncoArray: Prostate Cancer</td>\n",
       "      <td>Original description of the study: From ELLIPSE (linked to the PRACTICAL consortium), we contributed 78,000 SNPs to the OncoArray. A large fraction of the content was derived from the GWAS  -analyses in the non-European populations, with a majority of these SNPs coming from the analysis of overall prostate cancer in African ancestry populations</td>\n",
       "      <td>Case-Control</td>\n",
       "      <td>GRU --- General research use, CADM --- Cancer in all age groups, other diseases in adults only, and methods, CHRONIC --- Chronic diseases (including cancer), methods, DS-BCEMOPCA-NPU-MDS --- Disease-specific (breast, colorectal, endometrial, melanoma, ovarian, and/or prostate cancer, npu, mds), DS-CA --- Disease-specific (cancer), DS-CA-MDS-GSO --- Disease-specific (cancer, mds, gso), DS-CA-NPU --- Disease-specific (cancer, npu), DS-CA-NPU-GSO --- Disease-specific (cancer, npu, gso), DS-PC-MDS-GSO --- Disease-specific (prostate cancer, mds, gso), DS-PCP --- Disease-specific (prostate cancer predisposition), GRU-IRB --- General research use (irb), DS-PC-PUB-MDS --- Disease-specific (prostate cancer, pub, mds), GRU-NPU --- General research use (npu), MHNSI-MDS --- Men's health and nutrition in serious illnesses (mds), PC-RITPC --- Prostate cancer or radiation-induced toxicity in prostate cancer patients, HMB-PUB --- Health/medical/biomedical (pub), DS-CA-PUB --- Disease-specific (cancer, pub), DS-CA-MDS --- Disease-specific (cancer, mds), EPIMEDCA --- Epidemiological and medical research on cancer, methods, DS-PC-MDS --- Disease-specific (prostate cancer, mds), PC-MDS-NOCTRL --- Prostate cancer, methods, non-control, HMB-NPU --- Health/medical/biomedical (npu), DS-CHDSAD-MDS --- Disease-specific (cancer, heart disease, stroke, alzheimer disease, and diabetes, mds), HMB-PUB-NPU --- Health/medical/biomedical (pub, npu), DS-PC --- Disease-specific (prostate cancer), HMB --- Health/medical/biomedical</td>\n",
       "    </tr>\n",
       "    <tr>\n",
       "      <th>1</th>\n",
       "      <td>phs002398.v1.p1</td>\n",
       "      <td>Genomics of Prostate Cancer</td>\n",
       "      <td>This dataset includes genomic data from patients with prostate cancer. Specimens include archival active surveillance biopsies, radical prostatectomy specimens selected based on evidence of PD-L1 expression and/or T lymphocyte infiltrates,  and rapid autopsy material from patients deceased of prostate cancer. These data include low pass whole genome sequencing and targeted sequencing</td>\n",
       "      <td>Cross-Sectional</td>\n",
       "      <td>GRU --- General research use</td>\n",
       "    </tr>\n",
       "    <tr>\n",
       "      <th>2</th>\n",
       "      <td>phs001125.v2.p2</td>\n",
       "      <td>ELLIPSE Prostate Cancer Genotyping</td>\n",
       "      <td>The Elucidating Loci Involved in Prostate Cancer Susceptibility (ELLIPSE) Consortium is an international effort to discover risk loci for prostate cancer. The following de novo genotyping was performed. The OMNI  2.5M genotyping was conducted for 977 prostate cancer cases from UKGPCS. The Exome SNP array genotyping was conducted for 4741 subjects from UKGPCS</td>\n",
       "      <td>Case-Control</td>\n",
       "      <td>DS-PC-MDS --- Disease-specific (prostate cancer, mds), DS-CA-PUB --- Disease-specific (cancer, pub), HMB-PUB --- Health/medical/biomedical (pub), DS-PC --- Disease-specific (prostate cancer)</td>\n",
       "    </tr>\n",
       "    <tr>\n",
       "      <th>3</th>\n",
       "      <td>phs000447.v1.p1</td>\n",
       "      <td>Prostate Cancer Genome Sequencing Project</td>\n",
       "      <td>Prostate cancer is a prevalent cause of cancer morbidity and mortality in men. In order to characterize the full range of somatic mutations in protein-coding genes that may drive the  growth of prostate cancer, we sequenced the exonic regions of genomic and tumor DNA from over 100 patients with high-risk primary prostate cancer</td>\n",
       "      <td>Case-Control</td>\n",
       "      <td>GRU --- General research use, CRO --- Cancer research only</td>\n",
       "    </tr>\n",
       "    <tr>\n",
       "      <th>4</th>\n",
       "      <td>phs001081.v2.p2</td>\n",
       "      <td>ELLIPSE Prostate Cancer Meta-Analysis</td>\n",
       "      <td>The Elucidating Loci Involved in Prostate Cancer Susceptibility (ELLIPSE) Consortium is an international effort to discover risk loci for prostate cancer. It includes the meta-analysis of existing GWAS data. The   Cancer Study (UKGPCS) was first established in 1993 and is the largest prostate cancer study of its kind in the UK, involving nearly 189 hospitals. We are</td>\n",
       "      <td>Case-Control</td>\n",
       "      <td>DS-PC-MDS --- Disease-specific (prostate cancer, mds), DS-CA-PUB --- Disease-specific (cancer, pub), HMB-PUB --- Health/medical/biomedical (pub), DS-PC --- Disease-specific (prostate cancer)</td>\n",
       "    </tr>\n",
       "    <tr>\n",
       "      <th>...</th>\n",
       "      <td>...</td>\n",
       "      <td>...</td>\n",
       "      <td>...</td>\n",
       "      <td>...</td>\n",
       "      <td>...</td>\n",
       "    </tr>\n",
       "    <tr>\n",
       "      <th>93</th>\n",
       "      <td>phs000656.v1.p1</td>\n",
       "      <td>Genetic Measurement of Memory B-cell Recall Using Antibody Repertoire    Sequencing</td>\n",
       "      <td>We developed an improved high throughput sequencing approach to measure the quantities and sequences of the repertoire of antibody heavy chain RNA in a blood sample. Using this approach we   than squamous cell or basal cell skin cancer (includes solid tumors such as breast cancer or prostate cancer with recurrence in the past year, and any</td>\n",
       "      <td>Interventional</td>\n",
       "      <td>IRU --- Immunology research use</td>\n",
       "    </tr>\n",
       "    <tr>\n",
       "      <th>94</th>\n",
       "      <td>phs001632.v1.p1</td>\n",
       "      <td>African American Multiple Myeloma GWAS</td>\n",
       "      <td>The case set is from a case-control study designed to identify common genetic risk factors for multiple myeloma in African Americans, the population with the highest risk for this cancer.   unaffected African American subjects who were participants in the African American Prostate and Breast Consortium, with existing GWAS data from the Illumina1M</td>\n",
       "      <td>Case Set</td>\n",
       "      <td>GRU --- General research use, DS-CA --- Disease-specific (cancer), GRU-NPU --- General research use (npu), GRU-PUB-NPU --- General research use (pub, npu), DS-CA-PUB --- Disease-specific (cancer, pub), HMB-PUB --- Health/medical/biomedical (pub), HMB-IRB-NPU --- Health/medical/biomedical (irb, npu), DS-MM-MDS --- Disease-specific (multiple myeloma, mds), DS-CA-IRB-GSO --- Disease-specific (cancer, irb, gso)</td>\n",
       "    </tr>\n",
       "    <tr>\n",
       "      <th>95</th>\n",
       "      <td>phs002498.v1.p1</td>\n",
       "      <td>Integrative Genomic and Transcriptomic Analyses of Refractory Multiple    Myeloma</td>\n",
       "      <td>This study reports results from integrative sequencing analyses that combine capture transcriptome sequencing with a comparative analysis of exome capture between the malignant plasma cells and normal cells of patients  , Early Detection Research Network, National Cancer Institute, National Institutes of Health, Bethesda, MD, USA Funding Sources: Prostate Cancer Foundation</td>\n",
       "      <td>Case Set</td>\n",
       "      <td>DS-MM --- Disease-specific (multiple myeloma)</td>\n",
       "    </tr>\n",
       "    <tr>\n",
       "      <th>96</th>\n",
       "      <td>phs001584.v2.p2</td>\n",
       "      <td>eMERGE Network Phase III: HRC Imputed Array Data</td>\n",
       "      <td>The Electronic Medical Records and Genomics (eMERGE) Network is a National Institutes of Health (NIH)-organized and funded consortium of U.S. medical research institutions. The primary goal of the eMERGE Network   Washington and the Fred Hutchinson Cancer Research Center: KPWA participants were enrolled in the eMERGE Network through the Northwest Institute of Genetic</td>\n",
       "      <td>Case-Control</td>\n",
       "      <td>GRU --- General research use, HMB-GSO --- Health/medical/biomedical (gso), GRU-IRB-PUB-GSO --- General research use (irb, pub, gso), GRU-IRB-NPU --- General research use (irb, npu), HMB --- Health/medical/biomedical, HMB-MDS --- Health/medical/biomedical (mds), DS-CHILDD --- Disease-specific (childhood diseases), DS-DEM --- Disease-specific (dementia), HMB-PUB-GSO --- Health/medical/biomedical (pub, gso), GRU-IRB-PUB --- General research use (irb, pub)</td>\n",
       "    </tr>\n",
       "    <tr>\n",
       "      <th>97</th>\n",
       "      <td>phs000788.v2.p3</td>\n",
       "      <td>Research Program on Genes, Environment and Health (RPGEH)</td>\n",
       "      <td>The Kaiser Permanente Research Program on Genes, Environment, and Health (RPGEH) is a resource developed to facilitate research on genetic and environmental factors on common diseases and healthy aging. The   participants to the assembled RPGEH cohort. The CMHS was developed to facilitate research on prostate cancer and other conditions in older men; the study</td>\n",
       "      <td>Prospective Longitudinal Cohort</td>\n",
       "      <td>HMB-IRB-NPU --- Health/medical/biomedical (irb, npu)</td>\n",
       "    </tr>\n",
       "  </tbody>\n",
       "</table>\n",
       "<p>98 rows × 5 columns</p>\n",
       "</div>"
      ],
      "text/plain": [
       "          accession  \\\n",
       "0   phs001391.v1.p1   \n",
       "1   phs002398.v1.p1   \n",
       "2   phs001125.v2.p2   \n",
       "3   phs000447.v1.p1   \n",
       "4   phs001081.v2.p2   \n",
       "..              ...   \n",
       "93  phs000656.v1.p1   \n",
       "94  phs001632.v1.p1   \n",
       "95  phs002498.v1.p1   \n",
       "96  phs001584.v2.p2   \n",
       "97  phs000788.v2.p3   \n",
       "\n",
       "                                                                                   name  \\\n",
       "0                                                            OncoArray: Prostate Cancer   \n",
       "1                                                           Genomics of Prostate Cancer   \n",
       "2                                                    ELLIPSE Prostate Cancer Genotyping   \n",
       "3                                             Prostate Cancer Genome Sequencing Project   \n",
       "4                                                 ELLIPSE Prostate Cancer Meta-Analysis   \n",
       "..                                                                                  ...   \n",
       "93  Genetic Measurement of Memory B-cell Recall Using Antibody Repertoire    Sequencing   \n",
       "94                                               African American Multiple Myeloma GWAS   \n",
       "95    Integrative Genomic and Transcriptomic Analyses of Refractory Multiple    Myeloma   \n",
       "96                                     eMERGE Network Phase III: HRC Imputed Array Data   \n",
       "97                            Research Program on Genes, Environment and Health (RPGEH)   \n",
       "\n",
       "                                                                                                                                                                                                                                                                                                                                                                                           description  \\\n",
       "0                                           Original description of the study: From ELLIPSE (linked to the PRACTICAL consortium), we contributed 78,000 SNPs to the OncoArray. A large fraction of the content was derived from the GWAS  -analyses in the non-European populations, with a majority of these SNPs coming from the analysis of overall prostate cancer in African ancestry populations   \n",
       "1   This dataset includes genomic data from patients with prostate cancer. Specimens include archival active surveillance biopsies, radical prostatectomy specimens selected based on evidence of PD-L1 expression and/or T lymphocyte infiltrates,  and rapid autopsy material from patients deceased of prostate cancer. These data include low pass whole genome sequencing and targeted sequencing   \n",
       "2                             The Elucidating Loci Involved in Prostate Cancer Susceptibility (ELLIPSE) Consortium is an international effort to discover risk loci for prostate cancer. The following de novo genotyping was performed. The OMNI  2.5M genotyping was conducted for 977 prostate cancer cases from UKGPCS. The Exome SNP array genotyping was conducted for 4741 subjects from UKGPCS   \n",
       "3                                                            Prostate cancer is a prevalent cause of cancer morbidity and mortality in men. In order to characterize the full range of somatic mutations in protein-coding genes that may drive the  growth of prostate cancer, we sequenced the exonic regions of genomic and tumor DNA from over 100 patients with high-risk primary prostate cancer   \n",
       "4                     The Elucidating Loci Involved in Prostate Cancer Susceptibility (ELLIPSE) Consortium is an international effort to discover risk loci for prostate cancer. It includes the meta-analysis of existing GWAS data. The   Cancer Study (UKGPCS) was first established in 1993 and is the largest prostate cancer study of its kind in the UK, involving nearly 189 hospitals. We are   \n",
       "..                                                                                                                                                                                                                                                                                                                                                                                                 ...   \n",
       "93                                               We developed an improved high throughput sequencing approach to measure the quantities and sequences of the repertoire of antibody heavy chain RNA in a blood sample. Using this approach we   than squamous cell or basal cell skin cancer (includes solid tumors such as breast cancer or prostate cancer with recurrence in the past year, and any   \n",
       "94                                        The case set is from a case-control study designed to identify common genetic risk factors for multiple myeloma in African Americans, the population with the highest risk for this cancer.   unaffected African American subjects who were participants in the African American Prostate and Breast Consortium, with existing GWAS data from the Illumina1M   \n",
       "95             This study reports results from integrative sequencing analyses that combine capture transcriptome sequencing with a comparative analysis of exome capture between the malignant plasma cells and normal cells of patients  , Early Detection Research Network, National Cancer Institute, National Institutes of Health, Bethesda, MD, USA Funding Sources: Prostate Cancer Foundation   \n",
       "96                   The Electronic Medical Records and Genomics (eMERGE) Network is a National Institutes of Health (NIH)-organized and funded consortium of U.S. medical research institutions. The primary goal of the eMERGE Network   Washington and the Fred Hutchinson Cancer Research Center: KPWA participants were enrolled in the eMERGE Network through the Northwest Institute of Genetic   \n",
       "97                          The Kaiser Permanente Research Program on Genes, Environment, and Health (RPGEH) is a resource developed to facilitate research on genetic and environmental factors on common diseases and healthy aging. The   participants to the assembled RPGEH cohort. The CMHS was developed to facilitate research on prostate cancer and other conditions in older men; the study   \n",
       "\n",
       "                       Study Design  \\\n",
       "0                      Case-Control   \n",
       "1                   Cross-Sectional   \n",
       "2                      Case-Control   \n",
       "3                      Case-Control   \n",
       "4                      Case-Control   \n",
       "..                              ...   \n",
       "93                   Interventional   \n",
       "94                         Case Set   \n",
       "95                         Case Set   \n",
       "96                     Case-Control   \n",
       "97  Prospective Longitudinal Cohort   \n",
       "\n",
       "                                                                                                                                                                                                                                                                                                                                                                                                                                                                                                                                                                                                                                                                                                                                                                                                                                                                                                                                                                                                                                                                                                                                                                                                                                                                                                                                                                                                                                                                                                                                                                      Study Consent  \n",
       "0   GRU --- General research use, CADM --- Cancer in all age groups, other diseases in adults only, and methods, CHRONIC --- Chronic diseases (including cancer), methods, DS-BCEMOPCA-NPU-MDS --- Disease-specific (breast, colorectal, endometrial, melanoma, ovarian, and/or prostate cancer, npu, mds), DS-CA --- Disease-specific (cancer), DS-CA-MDS-GSO --- Disease-specific (cancer, mds, gso), DS-CA-NPU --- Disease-specific (cancer, npu), DS-CA-NPU-GSO --- Disease-specific (cancer, npu, gso), DS-PC-MDS-GSO --- Disease-specific (prostate cancer, mds, gso), DS-PCP --- Disease-specific (prostate cancer predisposition), GRU-IRB --- General research use (irb), DS-PC-PUB-MDS --- Disease-specific (prostate cancer, pub, mds), GRU-NPU --- General research use (npu), MHNSI-MDS --- Men's health and nutrition in serious illnesses (mds), PC-RITPC --- Prostate cancer or radiation-induced toxicity in prostate cancer patients, HMB-PUB --- Health/medical/biomedical (pub), DS-CA-PUB --- Disease-specific (cancer, pub), DS-CA-MDS --- Disease-specific (cancer, mds), EPIMEDCA --- Epidemiological and medical research on cancer, methods, DS-PC-MDS --- Disease-specific (prostate cancer, mds), PC-MDS-NOCTRL --- Prostate cancer, methods, non-control, HMB-NPU --- Health/medical/biomedical (npu), DS-CHDSAD-MDS --- Disease-specific (cancer, heart disease, stroke, alzheimer disease, and diabetes, mds), HMB-PUB-NPU --- Health/medical/biomedical (pub, npu), DS-PC --- Disease-specific (prostate cancer), HMB --- Health/medical/biomedical  \n",
       "1                                                                                                                                                                                                                                                                                                                                                                                                                                                                                                                                                                                                                                                                                                                                                                                                                                                                                                                                                                                                                                                                                                                                                                                                                                                                                                                                                                                                                                                                                                                                                      GRU --- General research use  \n",
       "2                                                                                                                                                                                                                                                                                                                                                                                                                                                                                                                                                                                                                                                                                                                                                                                                                                                                                                                                                                                                                                                                                                                                                                                                                                                                                                                                                                                    DS-PC-MDS --- Disease-specific (prostate cancer, mds), DS-CA-PUB --- Disease-specific (cancer, pub), HMB-PUB --- Health/medical/biomedical (pub), DS-PC --- Disease-specific (prostate cancer)  \n",
       "3                                                                                                                                                                                                                                                                                                                                                                                                                                                                                                                                                                                                                                                                                                                                                                                                                                                                                                                                                                                                                                                                                                                                                                                                                                                                                                                                                                                                                                                                                                                        GRU --- General research use, CRO --- Cancer research only  \n",
       "4                                                                                                                                                                                                                                                                                                                                                                                                                                                                                                                                                                                                                                                                                                                                                                                                                                                                                                                                                                                                                                                                                                                                                                                                                                                                                                                                                                                    DS-PC-MDS --- Disease-specific (prostate cancer, mds), DS-CA-PUB --- Disease-specific (cancer, pub), HMB-PUB --- Health/medical/biomedical (pub), DS-PC --- Disease-specific (prostate cancer)  \n",
       "..                                                                                                                                                                                                                                                                                                                                                                                                                                                                                                                                                                                                                                                                                                                                                                                                                                                                                                                                                                                                                                                                                                                                                                                                                                                                                                                                                                                                                                                                                                                                                                              ...  \n",
       "93                                                                                                                                                                                                                                                                                                                                                                                                                                                                                                                                                                                                                                                                                                                                                                                                                                                                                                                                                                                                                                                                                                                                                                                                                                                                                                                                                                                                                                                                                                                                                  IRU --- Immunology research use  \n",
       "94                                                                                                                                                                                                                                                                                                                                                                                                                                                                                                                                                                                                                                                                                                                                                                                                                                                                                                                                                                                                                                                                                                                                                       GRU --- General research use, DS-CA --- Disease-specific (cancer), GRU-NPU --- General research use (npu), GRU-PUB-NPU --- General research use (pub, npu), DS-CA-PUB --- Disease-specific (cancer, pub), HMB-PUB --- Health/medical/biomedical (pub), HMB-IRB-NPU --- Health/medical/biomedical (irb, npu), DS-MM-MDS --- Disease-specific (multiple myeloma, mds), DS-CA-IRB-GSO --- Disease-specific (cancer, irb, gso)  \n",
       "95                                                                                                                                                                                                                                                                                                                                                                                                                                                                                                                                                                                                                                                                                                                                                                                                                                                                                                                                                                                                                                                                                                                                                                                                                                                                                                                                                                                                                                                                                                                                    DS-MM --- Disease-specific (multiple myeloma)  \n",
       "96                                                                                                                                                                                                                                                                                                                                                                                                                                                                                                                                                                                                                                                                                                                                                                                                                                                                                                                                                                                                                                                                                                         GRU --- General research use, HMB-GSO --- Health/medical/biomedical (gso), GRU-IRB-PUB-GSO --- General research use (irb, pub, gso), GRU-IRB-NPU --- General research use (irb, npu), HMB --- Health/medical/biomedical, HMB-MDS --- Health/medical/biomedical (mds), DS-CHILDD --- Disease-specific (childhood diseases), DS-DEM --- Disease-specific (dementia), HMB-PUB-GSO --- Health/medical/biomedical (pub, gso), GRU-IRB-PUB --- General research use (irb, pub)  \n",
       "97                                                                                                                                                                                                                                                                                                                                                                                                                                                                                                                                                                                                                                                                                                                                                                                                                                                                                                                                                                                                                                                                                                                                                                                                                                                                                                                                                                                                                                                                                                                             HMB-IRB-NPU --- Health/medical/biomedical (irb, npu)  \n",
       "\n",
       "[98 rows x 5 columns]"
      ]
     },
     "execution_count": 25,
     "metadata": {},
     "output_type": "execute_result"
    }
   ],
   "source": [
    "print(f\"Number of studies for {query}\", studies.shape[0])\n",
    "studies"
   ]
  },
  {
   "cell_type": "markdown",
   "id": "7b4ff906-d43b-4877-ae6d-aa3bc60d7d00",
   "metadata": {},
   "source": [
    "## Table of Approved Requests for Datasets"
   ]
  },
  {
   "cell_type": "code",
   "execution_count": 26,
   "id": "7a129916-071a-4088-a10e-c8a0df7e2021",
   "metadata": {
    "tags": []
   },
   "outputs": [
    {
     "name": "stderr",
     "output_type": "stream",
     "text": [
      "  2%|▉                                           | 2/98 [00:02<02:14,  1.40s/it]"
     ]
    },
    {
     "name": "stdout",
     "output_type": "stream",
     "text": [
      "Skipping: phs002398.v1.p1 - no data.\n"
     ]
    },
    {
     "name": "stderr",
     "output_type": "stream",
     "text": [
      " 17%|███████▍                                   | 17/98 [00:25<02:06,  1.56s/it]"
     ]
    },
    {
     "name": "stdout",
     "output_type": "stream",
     "text": [
      "Skipping: phs001141.v2.p1 - no data.\n"
     ]
    },
    {
     "name": "stderr",
     "output_type": "stream",
     "text": [
      " 29%|████████████▎                              | 28/98 [00:39<01:22,  1.18s/it]"
     ]
    },
    {
     "name": "stdout",
     "output_type": "stream",
     "text": [
      "Skipping: phs001752.v1.p1 - no data.\n"
     ]
    },
    {
     "name": "stderr",
     "output_type": "stream",
     "text": [
      " 39%|████████████████▋                          | 38/98 [00:53<01:31,  1.52s/it]"
     ]
    },
    {
     "name": "stdout",
     "output_type": "stream",
     "text": [
      "Skipping: phs001524.v1.p1 - no data.\n"
     ]
    },
    {
     "name": "stderr",
     "output_type": "stream",
     "text": [
      " 41%|█████████████████▌                         | 40/98 [00:56<01:22,  1.42s/it]"
     ]
    },
    {
     "name": "stdout",
     "output_type": "stream",
     "text": [
      "Skipping: phs001988.v1.p1 - no data.\n"
     ]
    },
    {
     "name": "stderr",
     "output_type": "stream",
     "text": [
      " 45%|███████████████████▎                       | 44/98 [01:00<01:02,  1.16s/it]"
     ]
    },
    {
     "name": "stdout",
     "output_type": "stream",
     "text": [
      "Skipping: phs002192.v1.p1 - no data.\n"
     ]
    },
    {
     "name": "stderr",
     "output_type": "stream",
     "text": [
      " 50%|█████████████████████▌                     | 49/98 [01:08<01:33,  1.90s/it]"
     ]
    },
    {
     "name": "stdout",
     "output_type": "stream",
     "text": [
      "Skipping: phs000178.v11.p8 - no data.\n"
     ]
    },
    {
     "name": "stderr",
     "output_type": "stream",
     "text": [
      " 63%|███████████████████████████▏               | 62/98 [01:28<00:54,  1.51s/it]"
     ]
    },
    {
     "name": "stdout",
     "output_type": "stream",
     "text": [
      "Skipping: phs001554.v2.p1 - no data.\n"
     ]
    },
    {
     "name": "stderr",
     "output_type": "stream",
     "text": [
      " 77%|████████████████████████████████▉          | 75/98 [01:46<00:34,  1.51s/it]"
     ]
    },
    {
     "name": "stdout",
     "output_type": "stream",
     "text": [
      "Skipping: phs002371.v2.p1 - no data.\n"
     ]
    },
    {
     "name": "stderr",
     "output_type": "stream",
     "text": [
      " 80%|██████████████████████████████████▏        | 78/98 [01:49<00:23,  1.17s/it]"
     ]
    },
    {
     "name": "stdout",
     "output_type": "stream",
     "text": [
      "Skipping: phs002011.v1.p1 - no data.\n"
     ]
    },
    {
     "name": "stderr",
     "output_type": "stream",
     "text": [
      " 90%|██████████████████████████████████████▌    | 88/98 [02:01<00:11,  1.12s/it]"
     ]
    },
    {
     "name": "stdout",
     "output_type": "stream",
     "text": [
      "Skipping: phs001924.v1.p1 - no data.\n"
     ]
    },
    {
     "name": "stderr",
     "output_type": "stream",
     "text": [
      " 91%|███████████████████████████████████████    | 89/98 [02:02<00:09,  1.03s/it]"
     ]
    },
    {
     "name": "stdout",
     "output_type": "stream",
     "text": [
      "Skipping: phs001925.v1.p1 - no data.\n"
     ]
    },
    {
     "name": "stderr",
     "output_type": "stream",
     "text": [
      " 98%|██████████████████████████████████████████ | 96/98 [02:11<00:02,  1.33s/it]"
     ]
    },
    {
     "name": "stdout",
     "output_type": "stream",
     "text": [
      "Skipping: phs002498.v1.p1 - no data.\n"
     ]
    },
    {
     "name": "stderr",
     "output_type": "stream",
     "text": [
      "100%|███████████████████████████████████████████| 98/98 [02:13<00:00,  1.36s/it]"
     ]
    },
    {
     "name": "stdout",
     "output_type": "stream",
     "text": [
      "Number of authorized requests : 4471\n",
      "Number of unique requestors   : 1314\n",
      "Number of unique studies      : 82\n"
     ]
    },
    {
     "name": "stderr",
     "output_type": "stream",
     "text": [
      "\n"
     ]
    },
    {
     "data": {
      "text/html": [
       "<div>\n",
       "<style scoped>\n",
       "    .dataframe tbody tr th:only-of-type {\n",
       "        vertical-align: middle;\n",
       "    }\n",
       "\n",
       "    .dataframe tbody tr th {\n",
       "        vertical-align: top;\n",
       "    }\n",
       "\n",
       "    .dataframe thead th {\n",
       "        text-align: right;\n",
       "    }\n",
       "</style>\n",
       "<table border=\"1\" class=\"dataframe\">\n",
       "  <thead>\n",
       "    <tr style=\"text-align: right;\">\n",
       "      <th></th>\n",
       "      <th>Requestor</th>\n",
       "      <th>Affiliation</th>\n",
       "      <th>Project</th>\n",
       "      <th>Date of approval</th>\n",
       "      <th>Request status</th>\n",
       "      <th>Public Research Use Statement</th>\n",
       "      <th>Technical Research Use Statement</th>\n",
       "      <th>accession</th>\n",
       "      <th>name</th>\n",
       "    </tr>\n",
       "  </thead>\n",
       "  <tbody>\n",
       "    <tr>\n",
       "      <th>0</th>\n",
       "      <td>Alvarez, Maria Jesus</td>\n",
       "      <td>UNIVERSITY OF GRANADA</td>\n",
       "      <td>Identify concise biomarkers for urological cancers screening</td>\n",
       "      <td>May24, 2019</td>\n",
       "      <td>approved</td>\n",
       "      <td>To compare population reported data in SNPs, expression and miRNAs in urological cancers compiled in the most relevant databases such as TCGA (The Cancer Genome Atlas); ICGC (International Cancer Genome Consortium) and 100K Genomes (100,000 Genomes Project); with our analyzed data in these tumors. To compare population reported data in SNPs, expression and miRNAs in other hormonal cancers such as breast cancer compiled in the most relevant databases such as TCGA (The Cancer Genome Atlas); ICGC (International Cancer Genome Consortium) and 100K Genomes (100,000 Genomes Project); with our analyzed data in these tumors.</td>\n",
       "      <td>The main aim of this proposal is to develop an improved strategy to identify concise biomarkers for prostate cancer (PC) screening, prognosis and treatment, which still remain unidentified. One of the most important steps for validating an efficient biomarker is to prove it in a large sample cohort. We are studying exclusive phenotypes (mainly in hereditary and familial tumors). The main aim of this proposal is to find unique prostate cancer (PC) fingerprints to calculate their frequency and to prove if it is linked to the same clinical phenotype.   All of this could get closer to a precision medicine, which will the next future in patients taking care in clinical aspects, improving the treatment strategies, screening and follow-up of each patient.   To sum up, we just want to use this dataset independently to find relevant fingerprints and our research will be consistent with the data use limitations of this study. All results will be published</td>\n",
       "      <td>phs001391.v1.p1</td>\n",
       "      <td>OncoArray: Prostate Cancer</td>\n",
       "    </tr>\n",
       "    <tr>\n",
       "      <th>1</th>\n",
       "      <td>Batra, Jyotsna</td>\n",
       "      <td>QUEENSLAND UNIVERSITY OF TECHNOLOGY</td>\n",
       "      <td>Identification of Short tandem repeats (STRs) in cancer patient genome and their association with gene, miRNA and lncRNA expression level.</td>\n",
       "      <td>Jun28, 2020</td>\n",
       "      <td>approved</td>\n",
       "      <td>Deoxyribonucleic acid (DNA) is a molecule of two chains which bind together to form a double helix which contains genetic instructions for all known organisms to grow, work, increase and reproduce. Ribonucleic acid (RNA) is a polymeric molecule important to the coding, decoding, control and expression of different biological functions of genes. A microsatellite is a repetitive DNA tract in which some DNA motifs (ranging from one to six or more base pairs) are repeated, usually 5â50 times. Microsatellites occur in the genome of an organism, at thousands of locations. They have a higher mutation rate than other regions of DNA, resulting in high genetic diversity. We aim to find STRs in DNA and RNA and to compare two patient and control groups, as well as clarify their association with gene expression. Sequencing data will be used for discovering and locating polymorphic expressed STRs. SNP data sets will be used to investigate the association of STR with cancer incidence. We are not going to redistribute and share raw data with other researchers.</td>\n",
       "      <td>Research Use Statement: Short tandem repeats (STRs) are repeat sections of 2 to 6 nucleotides in DNA. The polymorphic STRs are a result of the expansion or contraction of the STR. STRs are highly polymorphic and are widespread in the human genome. There is also compelling evidence that the expansion of STRs within genes can lead to diseases, which has demonstrated their association with gene expression. Studies of a genome-wide association (GWAS) using SNPs identified ~100 regions in the human genome that confer the risk of prostate cancer. Despite GWAS advances, SNPs account for only ~33% of familial prostate cancers, indicating that the majority (up to 67%) of heritable prostate cancer risk is due to other types of genetic variation. This research would concentrate on the STRs ' potential for some of prostate cancer's ' missing heritability.  Various features of STRs suggest that they can play a regulatory role. In vitro studies have shown that variations in STRs can modulate transcription factor binding, adjust the distance between promoter elements, alter splicing efficiency and induce abnormal DNA structures that can modulate transcription. They are commonly used for DNA profiling in cancer diagnosis, parenting analysis (especially paternity testing) and forensic identification. These are also used in the genetic association study to identify a gene or mutation responsible for a particular trait or disorder. The hypothesis is that Genomic STR have an association with prostate cancer incidence and have potential to considered as a biomarker. Moreover, some STR are functional and may affect the gene expression level and methylation of genomic DNA. We intent to broadly share the results of this project with the scientific community by publishing our findings in this project. We are not going to redistribute and share raw data with other researchers.   Aims: Aim 1-Finding polymorphic STR in genomic data and compare prostate cancer and control group (Sequencing data of the TCGA project and Genotype-Tissue Expression Project (GTEx)).  Aim 2- Association of STR and SNP with the expression level of the nearby gene (RNA seq data of the TCGA and GTEx project).  Aim 3- Imputation of STRs in SNP data of patient and doing association analysis in the big data set (OncoArray Prostate Cancer SNP array and clinical data (phs001391.v1)).  Aim 4- Investigative the association of STR and SNP with the methylation site in prostate cancer (methylation data of the TCGA project).   Aim 5-The effect of STR and SNP on the miRNA and other ncRNA expression level (small RNA-seq data of the TCGA project).   Aim 6- Analysis of STR and their association in other types of cancer.  Data: Our plan is an analysis of Sequencing reads and SNP data to identified SNP, STR and copy number variation in the genome, moreover, analysis of transcriptome profiling, miRNA sequencing, copy number variation, clinical data in TCGA website to determine the association of SNP, STR and copy number variation with other biological processes. Furthermore, we will use OncoArray genotype data along with this analysis for STR association study.</td>\n",
       "      <td>phs001391.v1.p1</td>\n",
       "      <td>OncoArray: Prostate Cancer</td>\n",
       "    </tr>\n",
       "    <tr>\n",
       "      <th>2</th>\n",
       "      <td>Brennan, Paul</td>\n",
       "      <td>INTERNATIONAL AGENCY FOR RES ON CANCER</td>\n",
       "      <td>Mendelian randomization study of multiple cancers</td>\n",
       "      <td>Aug27, 2018</td>\n",
       "      <td>rejected</td>\n",
       "      <td>Because genes are unlikely confounded by lifestyle factors (eg smoking), a powerful method to identify novel exposures or biomarkers causally related to different cancers is to investigate whether genes that modify such biomarkers are associated with cancer risk. This method is known as âMendelian Randomizationâ. By using genome-wide data from Oncoarray and other GWAS, we will mainly focus on genes that influence characteristics of metabolic syndrome, including obesity, lipids, hypertension and diabetes. The International Agency for Research on Cancer (IARC) is part of the World Health Organization (WHO), which is an intergovernmental organization and Specialized Agency of the United Nations. Nothing contained in the present data access request may be construed as a waiver of any of the privileges and immunities of IARC/WHO âincluding IARC/WHO employees in the exercise of their functionsâ accorded under national, federal or international law, and/or as submitting IARC/WHO âincluding its employeesâ to any national or federal law or court jurisdiction. IARC/WHO will make every effort to comply with the terms and conditions for data use, to the extent that these do not contradict IARC/WHOâs regulations, rules and status as an intergovernmental organization and UN Specialized Agency.</td>\n",
       "      <td>Background and Aims: Mendelian randomization is based on the principle that genotypes are randomly assigned at meiosis, are independent of later environment and are unmodified by disease processes (1). Using genetic variants as instruments for exposures it is possible to discover causative factors not found by standard epidemiological studies.  An example is the recent demonstration of a causal effect for obesity in adenocarcinoma of the esophagus and Barrettâs esophagus using a gene score for obesity (2).   Methods: Based on published GWA studies, we have identified multiple genetic variants associated with characteristics of metabolic syndrome including BMI, blood pressure, lipid levels, and diabetes (eg the GIANT consortium for BMI that has identified 97 SNPs at GWA significance level). The next step is to identify the association of these gene scores with different cancers. We propose to use recent GWA studies, in particular those using the Oncoarray.  We will combine the overall gene score measures from both sets of data and will estimate that causal effect of the exposure (eg BMI, blood pressure etc) with different cancers in a two-step instrumental variable analysis. We will also test for departures of the assumptions of Mendelian Randomization, in particular for pleiotropy using a novel analysis method that has been recently proposed (3).  Methodology analysis will not be conducted and all results from cancer-specific datasets will be restricted to those cancers (eg: analysis of glioma data will be only  used to understand causes of glioma, and analysis of prostate cancer datasets will only be used to understand causes of prostate cancer). All results will be published in peer reviewed literature.   Risks: Data will be stored and analyzed by Dr Brennan in the Genetics Section at the International Agency for Research on Cancer. We do not envisage that our use of the GWA data for the proposed analyses poses additional risk to participants. References 1. Davey Smith G, Hemani G. Hum Mol Genet 2014;23(1):1â10. 2. Abrams JA, Chak A. J Natl Cancer Inst. 2014 Sep 30;106(11). 3. Bowden J, Davey Smith G, Burgess S. Int J Epidemiol . 2015;(June):512â525.</td>\n",
       "      <td>phs001391.v1.p1</td>\n",
       "      <td>OncoArray: Prostate Cancer</td>\n",
       "    </tr>\n",
       "    <tr>\n",
       "      <th>3</th>\n",
       "      <td>Campa, Daniele</td>\n",
       "      <td>UNIVERSITY OF PISA</td>\n",
       "      <td>Pan-cancer analysis to identify genetic risk factors and common pathways among different tumors</td>\n",
       "      <td>Jul20, 2021</td>\n",
       "      <td>approved</td>\n",
       "      <td>Multiple genetic variants for many cancers have been identified through GWAS. However, a limitation of these studies is the high significance threshold that needs to be met considering the very large number of comparisons conducted in each study. A way to reduce the number of tests is starting from an a priori biological hypothesis focusing on a particular set of polymorphisms, such as SNPs that may modify gene expression, and therefore decrease the number of tests carried out. In addition, we aim to study the genetic variability of processes (e.g. mitochondrial function, non-coding RNA, etc.) and genetic determinants of risk factors (e.g. BMI, diabetes, smoking, etc.) that may be relevant in most common cancer types. We also plan to identify the effect of SNPs significantly associated with more than one tumor type. We will analyze the effect of the SNPs individually and grouping them in scores to better understand the genetic architectures of common cancers. Finally, we will focus also on variants that the modern humans have inherited from ancient our ancestors such the Neanderthal.</td>\n",
       "      <td>The stringent significance threshold used in GWAS is likely to result in many false negatives. Reducing the number of tests relaxes the required significance threshold, thereby increasing statistical power to detect associations with cancer for each SNP. One strategy for reducing the number of tests is to test only SNPs with heightened prior probabilities of association. Our overall objective is to identify patterns/mechanism and biological molecules the genetic variability of which could be involved in many cancer types. Specifically, we formulated several a priori hypothesis to be tested in several cancer types, for which GWAS data are present in dbGaP. We plan to study the following groups of SNPs separately for each dataset to identify their association, individually or combined in genetic scores, with cancer susceptibility: â¢ SNPs related with mitochondrial function; â¢ SNPs in non-coding RNA and functional SNPs (eQTls, meQTLs etc.); â¢ SNPs shown to be associated with known or putative risk factors for cancer, including telomere length and mitochondrial copy number, according to a Mendelian randomization approach; â¢ Pleiotropic regions. In the second stage, by using the summary results we will perform meta-analysis, co-localization analysis and PheWas approaches to identify genetic variants, alone or combined, with significant effects in all or subsets of cancers. The datasets will not be combined, only the summary level results will be combined to evaluate the possible effect of the genetic variants on the specific cancer indicated by the dataset(s) and other types of cancers.  Furthermore, we plan to compute a polygenic risk score (PRS) including all SNPs reported to be significantly associated with more than one cancer types in published GWASs and test it in all cancer types and additionally to test whether PRS identified in one cancer type are associated with other cancer types.  Finally, we plan to analyze SNPs that belong to the Neanderthal introgression in Homo sapiens genome or other ancient SNPs. The above analyses will be performed separately for each tumor type, but we will combine the datasets of the same tumor type. All genotypes will be imputed. All promising leads resulting from these analyses will be further replicated in additional datasets (UKBB, FinnGen and datasets that are available at our instituition) if possible.  Our Institution is a non-profit organization, and the use of the data will be restricted to biomedical research specified in data use limitation, and we will not use these data to develop software and algorithms. We will share all the results with the scientific community by publishing our findings.</td>\n",
       "      <td>phs001391.v1.p1</td>\n",
       "      <td>OncoArray: Prostate Cancer</td>\n",
       "    </tr>\n",
       "    <tr>\n",
       "      <th>4</th>\n",
       "      <td>Carter, Hannah</td>\n",
       "      <td>UNIVERSITY OF CALIFORNIA, SAN DIEGO</td>\n",
       "      <td>Leveraging Transformers to Improve Cancer-specific Polygenic Risk Scores</td>\n",
       "      <td>Nov01, 2022</td>\n",
       "      <td>approved</td>\n",
       "      <td>Studies suggest that a considerable amount of cancer risk is attributable to heritable factors. Polygenic risk scores (PRS) attempt to capture genetic contributions and provide a metric of disease risk from a confluence of individual risk loci. Currently, classical PRS struggle to capture global genetic risk and generalize across populations. Our research suggests that machine-learning generated PRS can outperform current approaches and thus be used to improve both early detection and risk stratification in cancer. We are working to develop new machine-learning based approaches for cancer-specific PRS. Applying this methodology to cancer-specific case-control cohorts, we will evaluate our methodology and benchmark it against current gold-standard methods for PRS generation. By this study we will elucidate the potential of machine-learning to capture currently unaccounted for genetic effects (such as gene-gene interactions) and improve PRS. All findings generated using the requested data sets will be made available through publications, presentations, or by other means where appropriate.</td>\n",
       "      <td>Multiple cancer types exhibit high heritability that currently cannot be fully explained by variants identified through genome-wide association studies (GWAS). Rare, highly penetrant variants in cancer predisposing genes explain a small portion of heritable risk, but common genetic variation is also important. Polygenic risk scores (PRS) attempt to encapsulate risk attributable to common variants, yet even when combined with rare variant effects they fall short of explaining expected genetic risk. The objective of our study is to develop novel machine learning methods to both capture missing risk in cancer (such as from epistatic contributions) and improve cancer PRS.  In order to advance our research, we are applying for access to datasets that can be used for to train cancer-specific classifiers through supervised learning. Specifically for prostate and breast cancer we are requesting the following datasets: phs001391.v1.p1, phs001120.v2.p2, phs000812.v1.p1, phs001265.v1.p1, phs000147.v3.p1. We are also requesting access to datasets for the following cancer types as well: bladder (phs000346.v2.p2), pancreatic (phs000648.v1.p1, phs000206.v5.p3), lung (phs001273.v3.p2), oral and pharynx (phs001202.v2.p1), and colorectal (phs001903.v1.p1, phs001193.v1.p1). Finally, we request access to the following case-only cancer set: phs002192.v1.p1  We will respect the data use indications of each dataset and intend to add other relevant studies as they become available via dbGaP. All studies requested will only be utilized in the context of the approved tumor type (e.g., breast cancer only studies will only be used for breast cancer PRS formulation). All research findings generated from the requested dbGaP datasets will be broadly disseminated to the scientific community through publication and presentation at relevant conferences, or through other means where appropriate.</td>\n",
       "      <td>phs001391.v1.p1</td>\n",
       "      <td>OncoArray: Prostate Cancer</td>\n",
       "    </tr>\n",
       "    <tr>\n",
       "      <th>...</th>\n",
       "      <td>...</td>\n",
       "      <td>...</td>\n",
       "      <td>...</td>\n",
       "      <td>...</td>\n",
       "      <td>...</td>\n",
       "      <td>...</td>\n",
       "      <td>...</td>\n",
       "      <td>...</td>\n",
       "      <td>...</td>\n",
       "    </tr>\n",
       "    <tr>\n",
       "      <th>4466</th>\n",
       "      <td>Zhao, Jinying</td>\n",
       "      <td>UNIVERSITY OF FLORIDA</td>\n",
       "      <td>Identifying novel biomarkers for human complex diseases</td>\n",
       "      <td>Feb22, 2019</td>\n",
       "      <td>closed</td>\n",
       "      <td>Human chronic diseases such as CVD, diabetes, obesity, hypertension, major depression, Alzheimerâs disease, cancer, and their related risk factors, are the major economic and public health burdens. Many of these disorders frequently co-occur in the same patient. Despite substantial efforts, molecular mechanisms underlying these disorders and their multi-morbidities are still poorly understood. Conventional statistical methods have limited capability in unraveling the complex molecular networks implicated in these chronic conditions. In addition, replication of findings in independent populations is crucial in discriminating true associations from false associations. Our purposes are to validate our newly developed statistical methods for integrated multi-omics analysis, and to replicate our results in larger, well-characterized populations.</td>\n",
       "      <td>The overall objective of the proposed research is to identify novel biomarkers and molecular mechanisms for human complex diseases. We have developed several novel statistical methods for multi-omics data integration using WGS, WES, RNA-seq, DNA methylation, miRNA, ChIP-seq, metabolomics, etc. to identify novel biomarkers and biological pathways/networks associated with human complex diseases and disease comorbidities. We have also collected genetic, epigenetic, and metabolomic data in two twin stduies and Native Americans in the Strong Heart Study (SHS). We are requesting to access the omics datasets  along with clinical phenotype data related to CVD, diabetes, obesity, hypertension, neuropsychiatric (e.g., major depression) and neurodegenerative disorders (e.g. Alzheimerâs disease) , cancer, and their risk factors to carry out the following investigations: (1) to validate our newly developed statistical methods for identifying genetic, epigenetic and metabolic networks implicated in human complex diseases and their co-morbidities; (2) to replicate/refute our results in two twin studies and American Indians in larger, independent populations. The rich omics datasets along with clinical phenotypes in the NIH dbGaP provide  unique opportunities to achieve our objectives. We will not combine the requested datasets with other datasets outside of dbGaP.</td>\n",
       "      <td>phs000788.v2.p3</td>\n",
       "      <td>Research Program on Genes, Environment and Health (RPGEH)</td>\n",
       "    </tr>\n",
       "    <tr>\n",
       "      <th>4467</th>\n",
       "      <td>Zhou, Hang</td>\n",
       "      <td>YALE UNIVERSITY</td>\n",
       "      <td>Genetics of substance use disorders, alcohol consumption, and the comorbid disorders in multi-ethnic samples</td>\n",
       "      <td>Sep11, 2018</td>\n",
       "      <td>closed</td>\n",
       "      <td>According to the Global Burden of Disease Study 2016, substance use disorders (SUD) are among the top diseases that causes morbidity and mortality. Genetic factors contribute substantial risks to the etiology of SUD, however, only few loci have been identified, and only a small proportion of the variance can be explained by those variants. There is a lack of study in populations except Europeans, and very few studies investigated the genetic pleiotropy for SUD and comorbid diseases. To identify novel genetic risks for SUD and SUD-comorbid diseases in different populations, we will conduct genome-wide association studies using genetic data collected from dbGaP, our own datasets and other public available resources to increase power. Functional enrichments for the genetic variants will also be investigated. This study will extend our understanding of the genetic etiology for SUD and its comorbid diseases, which will benefit the downstream intervention or treatments for substance related diseases.</td>\n",
       "      <td>Substance use disorders (SUD) are among the leading causes of death and disability worldwide. Genetic studies, including candidate gene studies and genome-wide association studies (GWAS), have identified risk genes in global populations (mostly in European populations). However, only a small proportion of the variance can be explained by known genetic factors. And there is a remarkably lack of studies in populations except Europeans. Many traits and psychiatric disorders are highly correlated or comorbid with SUD, including, e.g., major depression (MD) and anxiety. They share, to some extent, pleiotropic variants and biological pathways. Only few studies investigated the genetic pleiotropy for alcohol use disorder (AUD) and comorbid diseases (Andersen et. al. JAMA Psychiatry, 2017 Zhou et. al. JAMA Psychiatry, 2017). There is much more to do to improve our understanding of the complex genetic architecture of SUD and the comorbidity in different populations. Here we propose systematic analyses on SUD and comorbid diseases combing public available datasets with our own datasets. Phenotypic data including SUD, alcohol consumption, related or comorbid psychiatric diseases, environmental factors will be assessed. GWAS will be used to identify associated variants with SUD or comorbidity by meta analyze all datasets to improve power. All available populations will be analyzed, including European-ancestry population (Europeans or European Americans), African-ancestry population (Africans or African Americans), Admixed Americans, East Asians and South Asians. Then a trans-population meta-analysis will be performed to identified shared genetic risks across different populations. Polygenic risk scores (PRS) will be used to predict SUD risk across datasets, or predict the risks for related psychiatric diseases. LDSC will be used to estimate the SNP-based heritability of SUD or the comorbidity in different populations, and estimate the genetic correlations between SUD (or comorbid diseases) and other traits. Partitioned heritability enrichments in different functional annotations will also be analyzed to investigate the functionality of SUD and comorbidity.</td>\n",
       "      <td>phs000788.v2.p3</td>\n",
       "      <td>Research Program on Genes, Environment and Health (RPGEH)</td>\n",
       "    </tr>\n",
       "    <tr>\n",
       "      <th>4468</th>\n",
       "      <td>Zhou, Xiang</td>\n",
       "      <td>UNIVERSITY OF MICHIGAN</td>\n",
       "      <td>Statistical Methods for Association Analysis in Genome-wide Association Studies</td>\n",
       "      <td>Jan12, 2017</td>\n",
       "      <td>approved</td>\n",
       "      <td>GWAS studies phenotypes as well as genotypes to identify associated genetic variants with the given phenotype and use these identified associations to explain phenotypic variation and predict phenotypes. Many of these studies are affected by many confounding factors in the sample. Efficient controlling for various confounding factors can increase the statistical power to identify causal variants while minimize false positives or increase the accuracy for phenotype prediction. We are developing such statistical methods, based on linear mixed models, to properly control for these unwanted confounding factors. We hope that, with these advanced statistical methods, we will be able to better identify causal variants and to help developing medicine and treatment in the future.</td>\n",
       "      <td>We are developing statistical methods that are particularly suited for finding novel SNP associations with quantitative phenotypes while properly controlling for confounding factors, and use these identified SNP associations to explain phenotypic variation and assess how accurate phenotypes of interest can be predicted from genotypes. The method we are working on extends the efficient linear mixed model methods previously published (Zhou and Stephens, Nature Genetics, 2012; Zhou et al., PLoS Genetics, 2013; Zhou and Stephens, Nature Methods, 2014), and are scalable to tens of thousands of individuals. We expect our method will gain more statistical power to identifying associated SNPs and achieve more accuracy using associated SNPs to perform genetic prediction of phenotypes. We are interested in applying our method to multiple datasets with the hope to identify novel loci that are associated with available phenotypes or test how accuracy these identified associations can explain phenotype variation or facilitate phenotype prediction. In addition, we are also interested in comparing with previously published methods (e.g. Lippert et al Nature Methods 2011) on the same data set to evaluate the performance of our method, to compare with theirs, and to gain insights into what improvements could be made further.</td>\n",
       "      <td>phs000788.v2.p3</td>\n",
       "      <td>Research Program on Genes, Environment and Health (RPGEH)</td>\n",
       "    </tr>\n",
       "    <tr>\n",
       "      <th>4469</th>\n",
       "      <td>Zhu, Qian</td>\n",
       "      <td>UNIVERSITY OF MARYLAND BALT CO CAMPUS</td>\n",
       "      <td>Clinical and genetic association study for type 2 diabetes and major depressive disorder</td>\n",
       "      <td>Mar04, 2016</td>\n",
       "      <td>expired</td>\n",
       "      <td>Given the increasing trend of patients being diagnosed with diabetes and depression, which are biologically and behaviorally connected, better understanding genetic and clinical associations between them can effectively assist in personalizing treatment strategies to improve their quality of lives. In this study, we develop computational approach to systematically identify clinical and genetic associations between type 2 diabetes and major depressive disorder.</td>\n",
       "      <td>Background: In 2012, 29.1 million Americans had diabetes and the current trend of diabetes has risen since then, if it continues, over 37 million Americans will be living with diabetes by the end of 2015. Evidence suggests that people with diabetes are twice as likely to develop clinical depression as those without the disease due to a loss of blood glucose control, and poorer health in general, which will dramatically increase the mortality. Better understanding genetic and clinical associations between diabetes and depression can effectively assist in personalizing treatment strategies.  Aims: In this study, we will systematically analyze GERA data to identify the clinical and genetic associations for type 2 diabetes (T2D) and major depressive disorder(MDD). More specifically, two aims are proposed, 1) We will retrieve eligible patients, who have been diagnosed with T2D and MDD and separate them into two patient groups according to their onset date of diagnosis. 2) different data mining techniques will be applied to identify the most relevant clinical and genetic associations that highly impact the patients' treatment response and their survival rate.</td>\n",
       "      <td>phs000788.v2.p3</td>\n",
       "      <td>Research Program on Genes, Environment and Health (RPGEH)</td>\n",
       "    </tr>\n",
       "    <tr>\n",
       "      <th>4470</th>\n",
       "      <td>Zhu, Qianqian</td>\n",
       "      <td>ROSWELL PARK CANCER INSTITUTE CORP</td>\n",
       "      <td>Risk prediction for complex disease</td>\n",
       "      <td>Nov13, 2015</td>\n",
       "      <td>closed</td>\n",
       "      <td>We propose to conduct risk prediction for cardiovascular disease, cancer, type II diabetes, irritable bowel syndrome, macular degeneration, and psychiatric disorder by using the complete genetic information, as well as the environmental and clinical factors documented in the Genetic Epidemiology Research on Adult Health and Aging (GERA) study. Our risk prediction models will be further validated in additional GWAS studies deposited in dbGap. We expect our study will lead to better risk prediction for common disease, which will allow early preventative intervention for individuals at high disease risk.</td>\n",
       "      <td>Objectives: Accurate risk prediction of common diseases is a major goal in contemporary medical research. It can lead to early detection and intervention, which is one of the most cost-effective measures to reduce morbidity and mortality. Despite the success of genome-wide association studies (GWAS) in finding disease susceptibility loci, their generally weak effects render them not particularly useful for risk prediction. Recent studies have shown improved prediction performance by extending the genetic models based on a small number of significant loci to those including a large number of non-significant loci as well.  Study design: We will conduct risk prediction for various complex diseases by using the complete genetic data in addition to the environmental and clinical information that are available in the Resource for Genetic Epidemiology Research on Aging (GERA) Cohort.  Analysis plan: Taking advantage of the rich resource in the GERA cohort, we will perform disease risk prediction by incorporating all genetic information available in GWAS data, as well as the environmental and clinical factors. The risk prediction models will be built for a number of complex diseases including cardiovascular disease, cancer, type II diabetes, irritable bowel syndrome, macular degeneration, and psychiatric disorder. The models built upon the GERA data will be evaluated using independent GWAS data deposited in dbGap.</td>\n",
       "      <td>phs000788.v2.p3</td>\n",
       "      <td>Research Program on Genes, Environment and Health (RPGEH)</td>\n",
       "    </tr>\n",
       "  </tbody>\n",
       "</table>\n",
       "<p>4471 rows × 9 columns</p>\n",
       "</div>"
      ],
      "text/plain": [
       "                  Requestor                             Affiliation  \\\n",
       "0     Alvarez, Maria Jesus                    UNIVERSITY OF GRANADA   \n",
       "1           Batra, Jyotsna      QUEENSLAND UNIVERSITY OF TECHNOLOGY   \n",
       "2            Brennan, Paul   INTERNATIONAL AGENCY FOR RES ON CANCER   \n",
       "3           Campa, Daniele                       UNIVERSITY OF PISA   \n",
       "4           Carter, Hannah      UNIVERSITY OF CALIFORNIA, SAN DIEGO   \n",
       "...                     ...                                     ...   \n",
       "4466         Zhao, Jinying                    UNIVERSITY OF FLORIDA   \n",
       "4467            Zhou, Hang                          YALE UNIVERSITY   \n",
       "4468           Zhou, Xiang                   UNIVERSITY OF MICHIGAN   \n",
       "4469             Zhu, Qian    UNIVERSITY OF MARYLAND BALT CO CAMPUS   \n",
       "4470         Zhu, Qianqian       ROSWELL PARK CANCER INSTITUTE CORP   \n",
       "\n",
       "                                                                                                                                         Project  \\\n",
       "0                                                                                   Identify concise biomarkers for urological cancers screening   \n",
       "1     Identification of Short tandem repeats (STRs) in cancer patient genome and their association with gene, miRNA and lncRNA expression level.   \n",
       "2                                                                                              Mendelian randomization study of multiple cancers   \n",
       "3                                                Pan-cancer analysis to identify genetic risk factors and common pathways among different tumors   \n",
       "4                                                                       Leveraging Transformers to Improve Cancer-specific Polygenic Risk Scores   \n",
       "...                                                                                                                                          ...   \n",
       "4466                                                                                    Identifying novel biomarkers for human complex diseases    \n",
       "4467                                Genetics of substance use disorders, alcohol consumption, and the comorbid disorders in multi-ethnic samples   \n",
       "4468                                                             Statistical Methods for Association Analysis in Genome-wide Association Studies   \n",
       "4469                                                    Clinical and genetic association study for type 2 diabetes and major depressive disorder   \n",
       "4470                                                                                                         Risk prediction for complex disease   \n",
       "\n",
       "     Date of approval Request status  \\\n",
       "0         May24, 2019       approved   \n",
       "1         Jun28, 2020       approved   \n",
       "2         Aug27, 2018       rejected   \n",
       "3         Jul20, 2021       approved   \n",
       "4         Nov01, 2022       approved   \n",
       "...               ...            ...   \n",
       "4466      Feb22, 2019         closed   \n",
       "4467      Sep11, 2018         closed   \n",
       "4468      Jan12, 2017       approved   \n",
       "4469      Mar04, 2016        expired   \n",
       "4470      Nov13, 2015         closed   \n",
       "\n",
       "                                                                                                                                                                                                                                                                                                                                                                                                                                                                                                                                                                                                                                                                                                                                                                                                                                                                                                                                                                                                                                                                                                                                                                                                                                                                                                                                           Public Research Use Statement  \\\n",
       "0                                                                                                                                                                                                                                                                                                                                                                                                                                                                                                                                                                                                                                                                                                                       To compare population reported data in SNPs, expression and miRNAs in urological cancers compiled in the most relevant databases such as TCGA (The Cancer Genome Atlas); ICGC (International Cancer Genome Consortium) and 100K Genomes (100,000 Genomes Project); with our analyzed data in these tumors. To compare population reported data in SNPs, expression and miRNAs in other hormonal cancers such as breast cancer compiled in the most relevant databases such as TCGA (The Cancer Genome Atlas); ICGC (International Cancer Genome Consortium) and 100K Genomes (100,000 Genomes Project); with our analyzed data in these tumors.    \n",
       "1                                                                                                                                                                                                                                                                 Deoxyribonucleic acid (DNA) is a molecule of two chains which bind together to form a double helix which contains genetic instructions for all known organisms to grow, work, increase and reproduce. Ribonucleic acid (RNA) is a polymeric molecule important to the coding, decoding, control and expression of different biological functions of genes. A microsatellite is a repetitive DNA tract in which some DNA motifs (ranging from one to six or more base pairs) are repeated, usually 5â50 times. Microsatellites occur in the genome of an organism, at thousands of locations. They have a higher mutation rate than other regions of DNA, resulting in high genetic diversity. We aim to find STRs in DNA and RNA and to compare two patient and control groups, as well as clarify their association with gene expression. Sequencing data will be used for discovering and locating polymorphic expressed STRs. SNP data sets will be used to investigate the association of STR with cancer incidence. We are not going to redistribute and share raw data with other researchers.   \n",
       "2     Because genes are unlikely confounded by lifestyle factors (eg smoking), a powerful method to identify novel exposures or biomarkers causally related to different cancers is to investigate whether genes that modify such biomarkers are associated with cancer risk. This method is known as âMendelian Randomizationâ. By using genome-wide data from Oncoarray and other GWAS, we will mainly focus on genes that influence characteristics of metabolic syndrome, including obesity, lipids, hypertension and diabetes. The International Agency for Research on Cancer (IARC) is part of the World Health Organization (WHO), which is an intergovernmental organization and Specialized Agency of the United Nations. Nothing contained in the present data access request may be construed as a waiver of any of the privileges and immunities of IARC/WHO âincluding IARC/WHO employees in the exercise of their functionsâ accorded under national, federal or international law, and/or as submitting IARC/WHO âincluding its employeesâ to any national or federal law or court jurisdiction. IARC/WHO will make every effort to comply with the terms and conditions for data use, to the extent that these do not contradict IARC/WHOâs regulations, rules and status as an intergovernmental organization and UN Specialized Agency.   \n",
       "3                                                                                                                                                                                                                           Multiple genetic variants for many cancers have been identified through GWAS. However, a limitation of these studies is the high significance threshold that needs to be met considering the very large number of comparisons conducted in each study. A way to reduce the number of tests is starting from an a priori biological hypothesis focusing on a particular set of polymorphisms, such as SNPs that may modify gene expression, and therefore decrease the number of tests carried out. In addition, we aim to study the genetic variability of processes (e.g. mitochondrial function, non-coding RNA, etc.) and genetic determinants of risk factors (e.g. BMI, diabetes, smoking, etc.) that may be relevant in most common cancer types. We also plan to identify the effect of SNPs significantly associated with more than one tumor type. We will analyze the effect of the SNPs individually and grouping them in scores to better understand the genetic architectures of common cancers. Finally, we will focus also on variants that the modern humans have inherited from ancient our ancestors such the Neanderthal.   \n",
       "4                                                                                                                                                                                                                        Studies suggest that a considerable amount of cancer risk is attributable to heritable factors. Polygenic risk scores (PRS) attempt to capture genetic contributions and provide a metric of disease risk from a confluence of individual risk loci. Currently, classical PRS struggle to capture global genetic risk and generalize across populations. Our research suggests that machine-learning generated PRS can outperform current approaches and thus be used to improve both early detection and risk stratification in cancer. We are working to develop new machine-learning based approaches for cancer-specific PRS. Applying this methodology to cancer-specific case-control cohorts, we will evaluate our methodology and benchmark it against current gold-standard methods for PRS generation. By this study we will elucidate the potential of machine-learning to capture currently unaccounted for genetic effects (such as gene-gene interactions) and improve PRS. All findings generated using the requested data sets will be made available through publications, presentations, or by other means where appropriate.   \n",
       "...                                                                                                                                                                                                                                                                                                                                                                                                                                                                                                                                                                                                                                                                                                                                                                                                                                                                                                                                                                                                                                                                                                                                                                                                                                                                                                                                                                  ...   \n",
       "4466                                                                                                                                                                                                                                                                                                                                                                                                                                                                              Human chronic diseases such as CVD, diabetes, obesity, hypertension, major depression, Alzheimerâs disease, cancer, and their related risk factors, are the major economic and public health burdens. Many of these disorders frequently co-occur in the same patient. Despite substantial efforts, molecular mechanisms underlying these disorders and their multi-morbidities are still poorly understood. Conventional statistical methods have limited capability in unraveling the complex molecular networks implicated in these chronic conditions. In addition, replication of findings in independent populations is crucial in discriminating true associations from false associations. Our purposes are to validate our newly developed statistical methods for integrated multi-omics analysis, and to replicate our results in larger, well-characterized populations.   \n",
       "4467                                                                                                                                                                                                                                                                                                                   According to the Global Burden of Disease Study 2016, substance use disorders (SUD) are among the top diseases that causes morbidity and mortality. Genetic factors contribute substantial risks to the etiology of SUD, however, only few loci have been identified, and only a small proportion of the variance can be explained by those variants. There is a lack of study in populations except Europeans, and very few studies investigated the genetic pleiotropy for SUD and comorbid diseases. To identify novel genetic risks for SUD and SUD-comorbid diseases in different populations, we will conduct genome-wide association studies using genetic data collected from dbGaP, our own datasets and other public available resources to increase power. Functional enrichments for the genetic variants will also be investigated. This study will extend our understanding of the genetic etiology for SUD and its comorbid diseases, which will benefit the downstream intervention or treatments for substance related diseases.   \n",
       "4468                                                                                                                                                                                                                                                                                                                                                                                                                                                                                                                                                      GWAS studies phenotypes as well as genotypes to identify associated genetic variants with the given phenotype and use these identified associations to explain phenotypic variation and predict phenotypes. Many of these studies are affected by many confounding factors in the sample. Efficient controlling for various confounding factors can increase the statistical power to identify causal variants while minimize false positives or increase the accuracy for phenotype prediction. We are developing such statistical methods, based on linear mixed models, to properly control for these unwanted confounding factors. We hope that, with these advanced statistical methods, we will be able to better identify causal variants and to help developing medicine and treatment in the future.    \n",
       "4469                                                                                                                                                                                                                                                                                                                                                                                                                                                                                                                                                                                                                                                                                                                                                                                                                                                                                    Given the increasing trend of patients being diagnosed with diabetes and depression, which are biologically and behaviorally connected, better understanding genetic and clinical associations between them can effectively assist in personalizing treatment strategies to improve their quality of lives. In this study, we develop computational approach to systematically identify clinical and genetic associations between type 2 diabetes and major depressive disorder.   \n",
       "4470                                                                                                                                                                                                                                                                                                                                                                                                                                                                                                                                                                                                                                                                                                                                    We propose to conduct risk prediction for cardiovascular disease, cancer, type II diabetes, irritable bowel syndrome, macular degeneration, and psychiatric disorder by using the complete genetic information, as well as the environmental and clinical factors documented in the Genetic Epidemiology Research on Adult Health and Aging (GERA) study. Our risk prediction models will be further validated in additional GWAS studies deposited in dbGap. We expect our study will lead to better risk prediction for common disease, which will allow early preventative intervention for individuals at high disease risk.   \n",
       "\n",
       "                                                                                                                                                                                                                                                                                                                                                                                                                                                                                                                                                                                                                                                                                                                                                                                                                                                                                                                                                                                                                                                                                                                                                                                                                                                                                                                                                                                                                                                                                                                                                                                                                                                                                                                                                                                                                                                                                                                                                                                                                                                                                                                                                                                                                                                                                                                                                                                                                                                                                                                                                                                                                                                                                                                                                                                                                                                                                                                                                                                                                                                                                                                                                                                                                                                Technical Research Use Statement  \\\n",
       "0                                                                                                                                                                                                                                                                                                                                                                                                                                                                                                                                                                                                                                                                                                                                                                                                                                                                                                                                                                                                                                                                                                                                                                                                                                                                                                                                                                                                                                                                                                                                                                                                                                                                                                                                                                                                                                                                                                                                                                                                                                                                                                                                                                                                                                                                             The main aim of this proposal is to develop an improved strategy to identify concise biomarkers for prostate cancer (PC) screening, prognosis and treatment, which still remain unidentified. One of the most important steps for validating an efficient biomarker is to prove it in a large sample cohort. We are studying exclusive phenotypes (mainly in hereditary and familial tumors). The main aim of this proposal is to find unique prostate cancer (PC) fingerprints to calculate their frequency and to prove if it is linked to the same clinical phenotype.   All of this could get closer to a precision medicine, which will the next future in patients taking care in clinical aspects, improving the treatment strategies, screening and follow-up of each patient.   To sum up, we just want to use this dataset independently to find relevant fingerprints and our research will be consistent with the data use limitations of this study. All results will be published      \n",
       "1     Research Use Statement: Short tandem repeats (STRs) are repeat sections of 2 to 6 nucleotides in DNA. The polymorphic STRs are a result of the expansion or contraction of the STR. STRs are highly polymorphic and are widespread in the human genome. There is also compelling evidence that the expansion of STRs within genes can lead to diseases, which has demonstrated their association with gene expression. Studies of a genome-wide association (GWAS) using SNPs identified ~100 regions in the human genome that confer the risk of prostate cancer. Despite GWAS advances, SNPs account for only ~33% of familial prostate cancers, indicating that the majority (up to 67%) of heritable prostate cancer risk is due to other types of genetic variation. This research would concentrate on the STRs ' potential for some of prostate cancer's ' missing heritability.  Various features of STRs suggest that they can play a regulatory role. In vitro studies have shown that variations in STRs can modulate transcription factor binding, adjust the distance between promoter elements, alter splicing efficiency and induce abnormal DNA structures that can modulate transcription. They are commonly used for DNA profiling in cancer diagnosis, parenting analysis (especially paternity testing) and forensic identification. These are also used in the genetic association study to identify a gene or mutation responsible for a particular trait or disorder. The hypothesis is that Genomic STR have an association with prostate cancer incidence and have potential to considered as a biomarker. Moreover, some STR are functional and may affect the gene expression level and methylation of genomic DNA. We intent to broadly share the results of this project with the scientific community by publishing our findings in this project. We are not going to redistribute and share raw data with other researchers.   Aims: Aim 1-Finding polymorphic STR in genomic data and compare prostate cancer and control group (Sequencing data of the TCGA project and Genotype-Tissue Expression Project (GTEx)).  Aim 2- Association of STR and SNP with the expression level of the nearby gene (RNA seq data of the TCGA and GTEx project).  Aim 3- Imputation of STRs in SNP data of patient and doing association analysis in the big data set (OncoArray Prostate Cancer SNP array and clinical data (phs001391.v1)).  Aim 4- Investigative the association of STR and SNP with the methylation site in prostate cancer (methylation data of the TCGA project).   Aim 5-The effect of STR and SNP on the miRNA and other ncRNA expression level (small RNA-seq data of the TCGA project).   Aim 6- Analysis of STR and their association in other types of cancer.  Data: Our plan is an analysis of Sequencing reads and SNP data to identified SNP, STR and copy number variation in the genome, moreover, analysis of transcriptome profiling, miRNA sequencing, copy number variation, clinical data in TCGA website to determine the association of SNP, STR and copy number variation with other biological processes. Furthermore, we will use OncoArray genotype data along with this analysis for STR association study.   \n",
       "2                                                                                                                                                                                                                                                                                                                                                                                                                                                                                                                                                                                                                                                                                                                                                                                                                                                                                                                                                                                          Background and Aims: Mendelian randomization is based on the principle that genotypes are randomly assigned at meiosis, are independent of later environment and are unmodified by disease processes (1). Using genetic variants as instruments for exposures it is possible to discover causative factors not found by standard epidemiological studies.  An example is the recent demonstration of a causal effect for obesity in adenocarcinoma of the esophagus and Barrettâs esophagus using a gene score for obesity (2).   Methods: Based on published GWA studies, we have identified multiple genetic variants associated with characteristics of metabolic syndrome including BMI, blood pressure, lipid levels, and diabetes (eg the GIANT consortium for BMI that has identified 97 SNPs at GWA significance level). The next step is to identify the association of these gene scores with different cancers. We propose to use recent GWA studies, in particular those using the Oncoarray.  We will combine the overall gene score measures from both sets of data and will estimate that causal effect of the exposure (eg BMI, blood pressure etc) with different cancers in a two-step instrumental variable analysis. We will also test for departures of the assumptions of Mendelian Randomization, in particular for pleiotropy using a novel analysis method that has been recently proposed (3).  Methodology analysis will not be conducted and all results from cancer-specific datasets will be restricted to those cancers (eg: analysis of glioma data will be only  used to understand causes of glioma, and analysis of prostate cancer datasets will only be used to understand causes of prostate cancer). All results will be published in peer reviewed literature.   Risks: Data will be stored and analyzed by Dr Brennan in the Genetics Section at the International Agency for Research on Cancer. We do not envisage that our use of the GWA data for the proposed analyses poses additional risk to participants. References 1. Davey Smith G, Hemani G. Hum Mol Genet 2014;23(1):1â10. 2. Abrams JA, Chak A. J Natl Cancer Inst. 2014 Sep 30;106(11). 3. Bowden J, Davey Smith G, Burgess S. Int J Epidemiol . 2015;(June):512â525.    \n",
       "3                                                                                                                                                                                                                                                                                                                                                                                                                                                                          The stringent significance threshold used in GWAS is likely to result in many false negatives. Reducing the number of tests relaxes the required significance threshold, thereby increasing statistical power to detect associations with cancer for each SNP. One strategy for reducing the number of tests is to test only SNPs with heightened prior probabilities of association. Our overall objective is to identify patterns/mechanism and biological molecules the genetic variability of which could be involved in many cancer types. Specifically, we formulated several a priori hypothesis to be tested in several cancer types, for which GWAS data are present in dbGaP. We plan to study the following groups of SNPs separately for each dataset to identify their association, individually or combined in genetic scores, with cancer susceptibility: â¢ SNPs related with mitochondrial function; â¢ SNPs in non-coding RNA and functional SNPs (eQTls, meQTLs etc.); â¢ SNPs shown to be associated with known or putative risk factors for cancer, including telomere length and mitochondrial copy number, according to a Mendelian randomization approach; â¢ Pleiotropic regions. In the second stage, by using the summary results we will perform meta-analysis, co-localization analysis and PheWas approaches to identify genetic variants, alone or combined, with significant effects in all or subsets of cancers. The datasets will not be combined, only the summary level results will be combined to evaluate the possible effect of the genetic variants on the specific cancer indicated by the dataset(s) and other types of cancers.  Furthermore, we plan to compute a polygenic risk score (PRS) including all SNPs reported to be significantly associated with more than one cancer types in published GWASs and test it in all cancer types and additionally to test whether PRS identified in one cancer type are associated with other cancer types.  Finally, we plan to analyze SNPs that belong to the Neanderthal introgression in Homo sapiens genome or other ancient SNPs. The above analyses will be performed separately for each tumor type, but we will combine the datasets of the same tumor type. All genotypes will be imputed. All promising leads resulting from these analyses will be further replicated in additional datasets (UKBB, FinnGen and datasets that are available at our instituition) if possible.  Our Institution is a non-profit organization, and the use of the data will be restricted to biomedical research specified in data use limitation, and we will not use these data to develop software and algorithms. We will share all the results with the scientific community by publishing our findings.    \n",
       "4                                                                                                                                                                                                                                                                                                                                                                                                                                                                                                                                                                                                                                                                                                                                                                                                                                                                                                                                                                                                                                                                                                                                                                                                                                                                                                          Multiple cancer types exhibit high heritability that currently cannot be fully explained by variants identified through genome-wide association studies (GWAS). Rare, highly penetrant variants in cancer predisposing genes explain a small portion of heritable risk, but common genetic variation is also important. Polygenic risk scores (PRS) attempt to encapsulate risk attributable to common variants, yet even when combined with rare variant effects they fall short of explaining expected genetic risk. The objective of our study is to develop novel machine learning methods to both capture missing risk in cancer (such as from epistatic contributions) and improve cancer PRS.  In order to advance our research, we are applying for access to datasets that can be used for to train cancer-specific classifiers through supervised learning. Specifically for prostate and breast cancer we are requesting the following datasets: phs001391.v1.p1, phs001120.v2.p2, phs000812.v1.p1, phs001265.v1.p1, phs000147.v3.p1. We are also requesting access to datasets for the following cancer types as well: bladder (phs000346.v2.p2), pancreatic (phs000648.v1.p1, phs000206.v5.p3), lung (phs001273.v3.p2), oral and pharynx (phs001202.v2.p1), and colorectal (phs001903.v1.p1, phs001193.v1.p1). Finally, we request access to the following case-only cancer set: phs002192.v1.p1  We will respect the data use indications of each dataset and intend to add other relevant studies as they become available via dbGaP. All studies requested will only be utilized in the context of the approved tumor type (e.g., breast cancer only studies will only be used for breast cancer PRS formulation). All research findings generated from the requested dbGaP datasets will be broadly disseminated to the scientific community through publication and presentation at relevant conferences, or through other means where appropriate.   \n",
       "...                                                                                                                                                                                                                                                                                                                                                                                                                                                                                                                                                                                                                                                                                                                                                                                                                                                                                                                                                                                                                                                                                                                                                                                                                                                                                                                                                                                                                                                                                                                                                                                                                                                                                                                                                                                                                                                                                                                                                                                                                                                                                                                                                                                                                                                                                                                                                                                                                                                                                                                                                                                                                                                                                                                                                                                                                                                                                                                                                                                                                                                                                                                                                                                                                                                                          ...   \n",
       "4466                                                                                                                                                                                                                                                                                                                                                                                                                                                                                                                                                                                                                                                                                                                                                                                                                                                                                                                                                                                                                                                                                                                                                                                                                                                                                                                                                                                                                                                                                                                                                                                                                                                                                                                                                                                                                                               The overall objective of the proposed research is to identify novel biomarkers and molecular mechanisms for human complex diseases. We have developed several novel statistical methods for multi-omics data integration using WGS, WES, RNA-seq, DNA methylation, miRNA, ChIP-seq, metabolomics, etc. to identify novel biomarkers and biological pathways/networks associated with human complex diseases and disease comorbidities. We have also collected genetic, epigenetic, and metabolomic data in two twin stduies and Native Americans in the Strong Heart Study (SHS). We are requesting to access the omics datasets  along with clinical phenotype data related to CVD, diabetes, obesity, hypertension, neuropsychiatric (e.g., major depression) and neurodegenerative disorders (e.g. Alzheimerâs disease) , cancer, and their risk factors to carry out the following investigations: (1) to validate our newly developed statistical methods for identifying genetic, epigenetic and metabolic networks implicated in human complex diseases and their co-morbidities; (2) to replicate/refute our results in two twin studies and American Indians in larger, independent populations. The rich omics datasets along with clinical phenotypes in the NIH dbGaP provide  unique opportunities to achieve our objectives. We will not combine the requested datasets with other datasets outside of dbGaP.   \n",
       "4467                                                                                                                                                                                                                                                                                                                                                                                                                                                                                                                                                                                                                                                                                                                                                                                                                                                                                                                                                                                                      Substance use disorders (SUD) are among the leading causes of death and disability worldwide. Genetic studies, including candidate gene studies and genome-wide association studies (GWAS), have identified risk genes in global populations (mostly in European populations). However, only a small proportion of the variance can be explained by known genetic factors. And there is a remarkably lack of studies in populations except Europeans. Many traits and psychiatric disorders are highly correlated or comorbid with SUD, including, e.g., major depression (MD) and anxiety. They share, to some extent, pleiotropic variants and biological pathways. Only few studies investigated the genetic pleiotropy for alcohol use disorder (AUD) and comorbid diseases (Andersen et. al. JAMA Psychiatry, 2017 Zhou et. al. JAMA Psychiatry, 2017). There is much more to do to improve our understanding of the complex genetic architecture of SUD and the comorbidity in different populations. Here we propose systematic analyses on SUD and comorbid diseases combing public available datasets with our own datasets. Phenotypic data including SUD, alcohol consumption, related or comorbid psychiatric diseases, environmental factors will be assessed. GWAS will be used to identify associated variants with SUD or comorbidity by meta analyze all datasets to improve power. All available populations will be analyzed, including European-ancestry population (Europeans or European Americans), African-ancestry population (Africans or African Americans), Admixed Americans, East Asians and South Asians. Then a trans-population meta-analysis will be performed to identified shared genetic risks across different populations. Polygenic risk scores (PRS) will be used to predict SUD risk across datasets, or predict the risks for related psychiatric diseases. LDSC will be used to estimate the SNP-based heritability of SUD or the comorbidity in different populations, and estimate the genetic correlations between SUD (or comorbid diseases) and other traits. Partitioned heritability enrichments in different functional annotations will also be analyzed to investigate the functionality of SUD and comorbidity.   \n",
       "4468                                                                                                                                                                                                                                                                                                                                                                                                                                                                                                                                                                                                                                                                                                                                                                                                                                                                                                                                                                                                                                                                                                                                                                                                                                                                                                                                                                                                                                                                                                                                                                                                                                                                                                                                                                                                                                                                                          We are developing statistical methods that are particularly suited for finding novel SNP associations with quantitative phenotypes while properly controlling for confounding factors, and use these identified SNP associations to explain phenotypic variation and assess how accurate phenotypes of interest can be predicted from genotypes. The method we are working on extends the efficient linear mixed model methods previously published (Zhou and Stephens, Nature Genetics, 2012; Zhou et al., PLoS Genetics, 2013; Zhou and Stephens, Nature Methods, 2014), and are scalable to tens of thousands of individuals. We expect our method will gain more statistical power to identifying associated SNPs and achieve more accuracy using associated SNPs to perform genetic prediction of phenotypes. We are interested in applying our method to multiple datasets with the hope to identify novel loci that are associated with available phenotypes or test how accuracy these identified associations can explain phenotype variation or facilitate phenotype prediction. In addition, we are also interested in comparing with previously published methods (e.g. Lippert et al Nature Methods 2011) on the same data set to evaluate the performance of our method, to compare with theirs, and to gain insights into what improvements could be made further.    \n",
       "4469                                                                                                                                                                                                                                                                                                                                                                                                                                                                                                                                                                                                                                                                                                                                                                                                                                                                                                                                                                                                                                                                                                                                                                                                                                                                                                                                                                                                                                                                                                                                                                                                                                                                                                                                                                                                                                                                                                                                                                                                                                                         Background: In 2012, 29.1 million Americans had diabetes and the current trend of diabetes has risen since then, if it continues, over 37 million Americans will be living with diabetes by the end of 2015. Evidence suggests that people with diabetes are twice as likely to develop clinical depression as those without the disease due to a loss of blood glucose control, and poorer health in general, which will dramatically increase the mortality. Better understanding genetic and clinical associations between diabetes and depression can effectively assist in personalizing treatment strategies.  Aims: In this study, we will systematically analyze GERA data to identify the clinical and genetic associations for type 2 diabetes (T2D) and major depressive disorder(MDD). More specifically, two aims are proposed, 1) We will retrieve eligible patients, who have been diagnosed with T2D and MDD and separate them into two patient groups according to their onset date of diagnosis. 2) different data mining techniques will be applied to identify the most relevant clinical and genetic associations that highly impact the patients' treatment response and their survival rate.   \n",
       "4470                                                                                                                                                                                                                                                                                                                                                                                                                                                                                                                                                                                                                                                                                                                                                                                                                                                                                                                                                                                                                                                                                                                                                                                                                                                                                                                                                                                                                                                                                                                                                                                                                                                                                                                                                                                       Objectives: Accurate risk prediction of common diseases is a major goal in contemporary medical research. It can lead to early detection and intervention, which is one of the most cost-effective measures to reduce morbidity and mortality. Despite the success of genome-wide association studies (GWAS) in finding disease susceptibility loci, their generally weak effects render them not particularly useful for risk prediction. Recent studies have shown improved prediction performance by extending the genetic models based on a small number of significant loci to those including a large number of non-significant loci as well.  Study design: We will conduct risk prediction for various complex diseases by using the complete genetic data in addition to the environmental and clinical information that are available in the Resource for Genetic Epidemiology Research on Aging (GERA) Cohort.  Analysis plan: Taking advantage of the rich resource in the GERA cohort, we will perform disease risk prediction by incorporating all genetic information available in GWAS data, as well as the environmental and clinical factors. The risk prediction models will be built for a number of complex diseases including cardiovascular disease, cancer, type II diabetes, irritable bowel syndrome, macular degeneration, and psychiatric disorder. The models built upon the GERA data will be evaluated using independent GWAS data deposited in dbGap.   \n",
       "\n",
       "            accession  \\\n",
       "0     phs001391.v1.p1   \n",
       "1     phs001391.v1.p1   \n",
       "2     phs001391.v1.p1   \n",
       "3     phs001391.v1.p1   \n",
       "4     phs001391.v1.p1   \n",
       "...               ...   \n",
       "4466  phs000788.v2.p3   \n",
       "4467  phs000788.v2.p3   \n",
       "4468  phs000788.v2.p3   \n",
       "4469  phs000788.v2.p3   \n",
       "4470  phs000788.v2.p3   \n",
       "\n",
       "                                                           name  \n",
       "0                                    OncoArray: Prostate Cancer  \n",
       "1                                    OncoArray: Prostate Cancer  \n",
       "2                                    OncoArray: Prostate Cancer  \n",
       "3                                    OncoArray: Prostate Cancer  \n",
       "4                                    OncoArray: Prostate Cancer  \n",
       "...                                                         ...  \n",
       "4466  Research Program on Genes, Environment and Health (RPGEH)  \n",
       "4467  Research Program on Genes, Environment and Health (RPGEH)  \n",
       "4468  Research Program on Genes, Environment and Health (RPGEH)  \n",
       "4469  Research Program on Genes, Environment and Health (RPGEH)  \n",
       "4470  Research Program on Genes, Environment and Health (RPGEH)  \n",
       "\n",
       "[4471 rows x 9 columns]"
      ]
     },
     "execution_count": 26,
     "metadata": {},
     "output_type": "execute_result"
    }
   ],
   "source": [
    "requests = get_authorized_requests(studies)\n",
    "print(\"Number of authorized requests :\", requests.shape[0])\n",
    "print(\"Number of unique requestors   :\", len(requests[\"Requestor\"].unique()))\n",
    "print(\"Number of unique studies      :\", len(requests[\"accession\"].unique()))\n",
    "requests"
   ]
  },
  {
   "cell_type": "code",
   "execution_count": null,
   "id": "364f094f-be29-4a2d-934a-92d6659704e0",
   "metadata": {},
   "outputs": [],
   "source": []
  },
  {
   "cell_type": "code",
   "execution_count": null,
   "id": "e4794e91-6f37-4999-8e51-bf00169be0b6",
   "metadata": {},
   "outputs": [],
   "source": []
  }
 ],
 "metadata": {
  "kernelspec": {
   "display_name": "Python 3 (ipykernel)",
   "language": "python",
   "name": "python3"
  },
  "language_info": {
   "codemirror_mode": {
    "name": "ipython",
    "version": 3
   },
   "file_extension": ".py",
   "mimetype": "text/x-python",
   "name": "python",
   "nbconvert_exporter": "python",
   "pygments_lexer": "ipython3",
   "version": "3.8.16"
  }
 },
 "nbformat": 4,
 "nbformat_minor": 5
}
