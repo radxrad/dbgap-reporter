{
 "cells": [
  {
   "cell_type": "markdown",
   "id": "fd1f2b54-18c9-4b87-b7c6-1046780ebde5",
   "metadata": {},
   "source": [
    "# RADx Data Access Requests in dbGaP\n",
    "This notebook analyzes the authorized requests for datasets submitted by the COVID Rapid Acceleration of Diagnostics [RADx Initiative](https://www.nih.gov/research-training/medical-research-initiatives/radx) projects:\n",
    "\n",
    "- [RADx Tech](https://www.nih.gov/research-training/medical-research-initiatives/radx/radx-programs#radx-tech)\n",
    "- [RADx Underserved Populations (RADx-UP)](https://www.nih.gov/research-training/medical-research-initiatives/radx/radx-programs#radx-up)\n",
    "- [RADx Radical (RADx-rad)](https://www.nih.gov/research-training/medical-research-initiatives/radx/radx-programs#radx-rad)\n",
    "- [RADx Digital Health Technologies (RADx-DHT)](https://www.nih.gov/news-events/news-releases/nih-awards-contracts-develop-innovative-digital-health-technologies-covid-19)\n",
    "\n",
    "Author: Peter W. Rose (pwrose@ucsd.edu)\n",
    "\n",
    "Creation date: 2023-02-23"
   ]
  },
  {
   "cell_type": "code",
   "execution_count": 6,
   "id": "b54c0417-b426-47f3-826b-0f753bb95907",
   "metadata": {
    "tags": []
   },
   "outputs": [],
   "source": [
    "import ipywidgets as widgets\n",
    "import pandas as pd\n",
    "pd.set_option('display.max_colwidth', None)"
   ]
  },
  {
   "cell_type": "code",
   "execution_count": 7,
   "id": "7f29c3aa-c2bb-46ec-8aa2-16b729baac3f",
   "metadata": {
    "tags": []
   },
   "outputs": [],
   "source": [
    "style = {\"description_width\": \"initial\"}\n",
    "radx_studies = [\"RADx-dht\", \"RADx-rad\", \"RADx-up\", \"RADx-tech\"]\n",
    "radx_widget = widgets.Dropdown(options=radx_studies, description=\"Select study:\", value=\"RADx-rad\", style=style)"
   ]
  },
  {
   "cell_type": "code",
   "execution_count": 9,
   "id": "af620d42-7881-481a-a6d3-833be87a21e4",
   "metadata": {
    "tags": []
   },
   "outputs": [
    {
     "data": {
      "application/vnd.jupyter.widget-view+json": {
       "model_id": "594f106a0b4e4f5bb22198fe7a99a768",
       "version_major": 2,
       "version_minor": 0
      },
      "text/plain": [
       "Dropdown(description='Select study:', index=1, options=('RADx-dht', 'RADx-rad', 'RADx-up', 'RADx-tech'), style…"
      ]
     },
     "metadata": {},
     "output_type": "display_data"
    }
   ],
   "source": [
    "display(radx_widget)"
   ]
  },
  {
   "cell_type": "code",
   "execution_count": 4,
   "id": "8661004c-7145-44d4-af81-f3d4d93ef3d9",
   "metadata": {},
   "outputs": [
    {
     "name": "stdout",
     "output_type": "stream",
     "text": [
      "Query for: RADx-rad\n"
     ]
    }
   ],
   "source": [
    "query = radx_widget.value\n",
    "print(\"Query for:\", query)"
   ]
  },
  {
   "cell_type": "code",
   "execution_count": 5,
   "id": "1a30a2b6-8da4-412c-9a15-06dd664a88d9",
   "metadata": {},
   "outputs": [
    {
     "ename": "NameError",
     "evalue": "name 'download_dbgap_studies' is not defined",
     "output_type": "error",
     "traceback": [
      "\u001b[0;31m---------------------------------------------------------------------------\u001b[0m",
      "\u001b[0;31mNameError\u001b[0m                                 Traceback (most recent call last)",
      "Cell \u001b[0;32mIn[5], line 2\u001b[0m\n\u001b[1;32m      1\u001b[0m filepath \u001b[38;5;241m=\u001b[39m \u001b[38;5;124m\"\u001b[39m\u001b[38;5;124mstudies.csv\u001b[39m\u001b[38;5;124m\"\u001b[39m\n\u001b[0;32m----> 2\u001b[0m \u001b[43mdownload_dbgap_studies\u001b[49m(query, filepath)\n",
      "\u001b[0;31mNameError\u001b[0m: name 'download_dbgap_studies' is not defined"
     ]
    }
   ],
   "source": [
    "filepath = \"studies.csv\"\n",
    "download_dbgap_studies(query, filepath)"
   ]
  },
  {
   "cell_type": "code",
   "execution_count": null,
   "id": "9d65d8c5-f883-4428-a82e-6816ef0ab13b",
   "metadata": {},
   "outputs": [],
   "source": [
    "studies = pd.read_csv(filepath, usecols=[\"accession\", \"name\", \"description\", \"Study Design\", \"Study Consent\",])"
   ]
  },
  {
   "cell_type": "code",
   "execution_count": null,
   "id": "47def488-88d1-43f8-b555-0bc8d920a9ba",
   "metadata": {
    "tags": []
   },
   "outputs": [],
   "source": [
    "# List of studies\n",
    "# TODO automate the studies file download for any query term\n",
    "\n",
    "# To download the list of studies, run this query and click the \"Save Results\" button.\n",
    "# https://www.ncbi.nlm.nih.gov/gap/advanced_search/?TERM=<query_term>\n",
    "\n",
    "# Examples:\n",
    "# https://www.ncbi.nlm.nih.gov/gap/advanced_search/?TERM=radx-rad\n",
    "#study = \"https://raw.githubusercontent.com/radxrad/dbgap-reporter/main/data/radx-rad_studies.csv\"\n",
    "# study = \"https://raw.githubusercontent.com/radxrad/dbgap-reporter/main/data/radx-up_studies.csv\"\n",
    "# study = \"https://raw.githubusercontent.com/radxrad/dbgap-reporter/main/data/radx-tech_studies.csv\"\n",
    "# study = \"https://raw.githubusercontent.com/radxrad/dbgap-reporter/main/data/radx-dht_studies.csv\"\n",
    "\n",
    "#studies = pd.read_csv(study, usecols=[\"accession\", \"name\", \"description\", \"Study Design\", \"Study Consent\",])"
   ]
  },
  {
   "cell_type": "markdown",
   "id": "64845154-1798-42eb-a3a2-6fb9ce185cbc",
   "metadata": {},
   "source": [
    "## Table of Studies"
   ]
  },
  {
   "cell_type": "code",
   "execution_count": null,
   "id": "402213cd-c516-4cb6-82f4-36587f7dc237",
   "metadata": {
    "tags": []
   },
   "outputs": [],
   "source": [
    "print(\"Number of studies\", studies.shape[0])\n",
    "studies"
   ]
  },
  {
   "cell_type": "code",
   "execution_count": null,
   "id": "5a3ef379-2bc3-49c9-a8ee-7c5e324f8e32",
   "metadata": {
    "tags": []
   },
   "outputs": [],
   "source": [
    "def get_download_url(accession):\n",
    "    return \"https://www.ncbi.nlm.nih.gov/projects/gap/cgi-bin/GetAuthorizedRequestDownload.cgi?study_id=\" + accession"
   ]
  },
  {
   "cell_type": "markdown",
   "id": "b446b9f4-46fb-4e42-a8e8-36e500ab81df",
   "metadata": {},
   "source": [
    "## Create a table of approved requests for datasets"
   ]
  },
  {
   "cell_type": "code",
   "execution_count": null,
   "id": "43c81464-9f1a-4a8a-ad72-e281be8c7440",
   "metadata": {
    "tags": []
   },
   "outputs": [],
   "source": [
    "authorized_requests = pd.DataFrame()\n",
    "\n",
    "for _, row in studies.iterrows():\n",
    "    df = pd.read_csv(get_download_url(row[\"accession\"]), \n",
    "                     usecols=[\"Requestor\", \"Affiliation\", \"Project\", \"Date of approval\", \"Request status\",  \n",
    "                              \"Public Research Use Statement\", \"Technical Research Use Statement\"],\n",
    "                     sep=\"\\t\")\n",
    "    df[\"accession\"] = row[\"accession\"]\n",
    "    df[\"name\"] = row[\"name\"]\n",
    "    authorized_requests = pd.concat([authorized_requests, df], ignore_index=True)"
   ]
  },
  {
   "cell_type": "code",
   "execution_count": null,
   "id": "db609b0c-5fb8-4c6a-9b0c-429c883c06aa",
   "metadata": {
    "tags": []
   },
   "outputs": [],
   "source": [
    "print(\"Number of authorized requests :\", authorized_requests.shape[0])\n",
    "print(\"Number of unique requestors   :\", len(authorized_requests[\"Requestor\"].unique()))\n",
    "print(\"Number of unique studies      :\", len(authorized_requests[\"accession\"].unique()))\n",
    "authorized_requests"
   ]
  },
  {
   "cell_type": "code",
   "execution_count": null,
   "id": "2151a44b-0ab1-4112-9590-8b60115eb8f9",
   "metadata": {},
   "outputs": [],
   "source": []
  },
  {
   "cell_type": "code",
   "execution_count": null,
   "id": "f7d59c11-ad1e-4eb2-98a2-19eaf5c3e0bd",
   "metadata": {},
   "outputs": [],
   "source": []
  }
 ],
 "metadata": {
  "kernelspec": {
   "display_name": "Python 3 (ipykernel)",
   "language": "python",
   "name": "python3"
  },
  "language_info": {
   "codemirror_mode": {
    "name": "ipython",
    "version": 3
   },
   "file_extension": ".py",
   "mimetype": "text/x-python",
   "name": "python",
   "nbconvert_exporter": "python",
   "pygments_lexer": "ipython3",
   "version": "3.8.16"
  }
 },
 "nbformat": 4,
 "nbformat_minor": 5
}
