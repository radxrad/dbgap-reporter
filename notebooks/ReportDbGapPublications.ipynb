{
 "cells": [
  {
   "cell_type": "code",
   "execution_count": 1,
   "id": "2991fd05-389b-4203-ba4b-1617ba4d7666",
   "metadata": {},
   "outputs": [],
   "source": [
    "import pandas as pd\n",
    "import ipywidgets\n",
    "from utils import download_dbgap_studies, get_authorized_requests"
   ]
  },
  {
   "cell_type": "code",
   "execution_count": 2,
   "id": "dc0e0f02-024a-4259-920a-a00054516c68",
   "metadata": {
    "tags": []
   },
   "outputs": [],
   "source": [
    "import pandas as pd\n",
    "pd.set_option('display.max_colwidth', None)"
   ]
  },
  {
   "cell_type": "code",
   "execution_count": 3,
   "id": "94089a8f-618b-430a-8a84-a953f7c47ec2",
   "metadata": {},
   "outputs": [],
   "source": [
    "#widgets.Textarea(value=\"Please enter text here..\")"
   ]
  },
  {
   "cell_type": "code",
   "execution_count": 4,
   "id": "1fd890c3-78e8-4ad0-9609-e7f682628f07",
   "metadata": {},
   "outputs": [],
   "source": [
    "query = \"RADx\""
   ]
  },
  {
   "cell_type": "code",
   "execution_count": 5,
   "id": "e7791041-ef74-4653-bdbc-c042ed448ae1",
   "metadata": {},
   "outputs": [],
   "source": [
    "filepath = \"studies.csv\"\n",
    "download_dbgap_studies(query, filepath)"
   ]
  },
  {
   "cell_type": "code",
   "execution_count": 6,
   "id": "4a471e72-af53-4f68-b11c-f6a33960a3e0",
   "metadata": {
    "tags": []
   },
   "outputs": [],
   "source": [
    "studies = pd.read_csv(filepath, usecols=[\"accession\", \"name\", \"description\", \"Study Design\", \"Study Consent\",])"
   ]
  },
  {
   "cell_type": "markdown",
   "id": "16106698-995a-4800-aeb0-9a14b73ddf32",
   "metadata": {},
   "source": [
    "## Table of Studies"
   ]
  },
  {
   "cell_type": "code",
   "execution_count": 7,
   "id": "82a725e0-c840-4854-a927-69b07836258b",
   "metadata": {
    "tags": []
   },
   "outputs": [
    {
     "name": "stdout",
     "output_type": "stream",
     "text": [
      "Number of studies for RADx 157\n"
     ]
    },
    {
     "data": {
      "text/html": [
       "<div>\n",
       "<style scoped>\n",
       "    .dataframe tbody tr th:only-of-type {\n",
       "        vertical-align: middle;\n",
       "    }\n",
       "\n",
       "    .dataframe tbody tr th {\n",
       "        vertical-align: top;\n",
       "    }\n",
       "\n",
       "    .dataframe thead th {\n",
       "        text-align: right;\n",
       "    }\n",
       "</style>\n",
       "<table border=\"1\" class=\"dataframe\">\n",
       "  <thead>\n",
       "    <tr style=\"text-align: right;\">\n",
       "      <th></th>\n",
       "      <th>accession</th>\n",
       "      <th>name</th>\n",
       "      <th>description</th>\n",
       "      <th>Study Design</th>\n",
       "      <th>Study Consent</th>\n",
       "    </tr>\n",
       "  </thead>\n",
       "  <tbody>\n",
       "    <tr>\n",
       "      <th>0</th>\n",
       "      <td>phs003032.v1.p1</td>\n",
       "      <td>Rapid Acceleration of Diagnostics - Underserved Populations (RADx-UP):    RADx-UP Supplement-Vaccine Hesitancy and Uptake</td>\n",
       "      <td>The Georgia Center for Diabetes Translation Research Center (P30DK111024) proposes to collaborate with our RADx-UP Diabetes rural community partner and utilize locally developed and tested Georgia CEAL (1OT2HL156812-01/16-312-0217571-66105L) COVID-19 communication  -management behaviors and related outcomes (e.g., blood glucose) in individuals with uncontrolled diabetes in rural, Southwest Georgia. Note for data in RADx</td>\n",
       "      <td>Case Set</td>\n",
       "      <td>GRU --- General research use</td>\n",
       "    </tr>\n",
       "    <tr>\n",
       "      <th>1</th>\n",
       "      <td>phs002585.v1.p1</td>\n",
       "      <td>Rapid Acceleration of Diagnostics - Radical (RADx-rad): AICORE-kids</td>\n",
       "      <td>This work is directed at characterizing pediatric COVID-19 and stratifying incoming patients by projected (future) disease severity. Such stratification has several implications: immediately improving treatment planning, and as disease mechanistic   regulatory milestones intended to conform with the Emergency Use Authorization (EUA) programs in effect for SARS-CoV-2 diagnostics. Note for data in RADx</td>\n",
       "      <td>Case Set</td>\n",
       "      <td>GRU --- General research use</td>\n",
       "    </tr>\n",
       "    <tr>\n",
       "      <th>2</th>\n",
       "      <td>phs003081.v1.p1</td>\n",
       "      <td>Rapid Acceleration of Diagnostics - Underserved Populations (RADx-UP):    COMMIT</td>\n",
       "      <td>In the United States underserved and socially vulnerable populations have endured higher rates and disparities of COVID-19 infection, morbidity, and mortality. This disproportionate burden has shone the light on the   sustainable model for trustworthy CEnR partnerships to address SEBI of COVID-19 testing. Note for data in RADx: Instructions for requesting individual-level</td>\n",
       "      <td>Case Set</td>\n",
       "      <td>GRU --- General research use</td>\n",
       "    </tr>\n",
       "    <tr>\n",
       "      <th>3</th>\n",
       "      <td>phs002618.v1.p1</td>\n",
       "      <td>Rapid Acceleration of Diagnostics - Underserved Populations (RADx-UP):    Rapid Acceleration of Acceptable COVID Testing and Care Options for    NYC Public Housing Residents (RADx NYCHA)</td>\n",
       "      <td>The Rapid Acceleration of Diagnostics for Underserved Populations (RADx-UP) initiative supports supplements to individual NIH awards to increase COVID-19 testing among underserved populations. Leveraging the infrastructure of a current project   without navigation support, including home-testing strategies, on acceptance and uptake of COVID-19 screening tests. Note for data in RADx: Instructions for</td>\n",
       "      <td>Case Set</td>\n",
       "      <td>GRU --- General research use</td>\n",
       "    </tr>\n",
       "    <tr>\n",
       "      <th>4</th>\n",
       "      <td>phs002782.v1.p1</td>\n",
       "      <td>Rapid Acceleration of Diagnostics - Radical (RADx-rad): NIEHS    Diagnostic-Prognostic RNAseq</td>\n",
       "      <td>Infectious disease outbreaks like Coronavirus Disease 2019 (COVID-19) can overwhelm healthcare systems when screening tools are scarce or lacking. In the face of an ongoing COVID-19 pandemic and with single-plex  , long queue times, backlogs in COVID-19 diagnoses, and delayed access to specialized treatment for COVID-19 patients. The goal of this RADx funded project</td>\n",
       "      <td>Case Set</td>\n",
       "      <td>GRU --- General research use</td>\n",
       "    </tr>\n",
       "    <tr>\n",
       "      <th>...</th>\n",
       "      <td>...</td>\n",
       "      <td>...</td>\n",
       "      <td>...</td>\n",
       "      <td>...</td>\n",
       "      <td>...</td>\n",
       "    </tr>\n",
       "    <tr>\n",
       "      <th>152</th>\n",
       "      <td>phs002920.v1.p1</td>\n",
       "      <td>Rapid Acceleration of Diagnostics - Underserved Populations (RADx-UP): A    Community Health Worker Intervention to Identify and Decrease Barriers    to Pre-Procedural COVID-19 Testing Among Los Angeles County Department    of Health Safety-Net Patients</td>\n",
       "      <td>African American and Latinx communities nationally and in California not only bear a disproportionate burden of COVID-19 positive cases and deaths but are also not taking part in COVID-19 testing   intervention on trust, self-efficacy, and intent to participate in COVID-19 testing/re-testing and vaccinations. Note for data in RADx: Instructions for</td>\n",
       "      <td>Case Set</td>\n",
       "      <td>GRU --- General research use</td>\n",
       "    </tr>\n",
       "    <tr>\n",
       "      <th>153</th>\n",
       "      <td>phs002945.v1.p1</td>\n",
       "      <td>Rapid Acceleration of Diagnostics - Radical (RADx-rad): A Data Science    Approach to Identify and Manage Multisystem Inflammatory Syndrome in    Children (MIS-C) Associated with SARS-CoV-2 Infection and Kawasaki    Disease in Pediatric Patients</td>\n",
       "      <td>The primary objective of this study was to design and validate a predictive decision support system for the identification, treatment, and management of SARS-CoV-2 associated with multisystem inflammatory syndrome in   part of this study. Note for data in RADx: Instructions for requesting individual-level data are available on RADx Data Hub at https://radx-hub.nih.gov</td>\n",
       "      <td>Cross-Sectional</td>\n",
       "      <td>GRU --- General research use, GRU-IRB --- General research use (irb)</td>\n",
       "    </tr>\n",
       "    <tr>\n",
       "      <th>154</th>\n",
       "      <td>phs002616.v1.p1</td>\n",
       "      <td>Rapid Acceleration of Diagnostics - Underserved Populations (RADx-UP):    Bridging the Evidence-to-Practice Gap: Evaluating Practice    Facilitation as a Strategy to Accelerate Translation of a    Systems-Level Adherence Intervention into Safety Net Practices/Project    Evidence</td>\n",
       "      <td>The COVID-19 pandemic is a major public health crisis, revealing deep and persistent racial/ethnic disparities in health. In New York City (NYC), one of the most affected cities in the   community- and structural-level determinants of testing using validated self-report measures (RADX-UP Common Data Elements, NIH PhenX Toolkit) among the same</td>\n",
       "      <td>Cross-Sectional</td>\n",
       "      <td>GRU --- General research use</td>\n",
       "    </tr>\n",
       "    <tr>\n",
       "      <th>155</th>\n",
       "      <td>phs002648.v1.p1</td>\n",
       "      <td>Rapid Acceleration of Diagnostics - Underserved Populations (RADx-UP):    Keeping Rural Minority 'Essential' Workplaces Open Safely During the    COVID-19 Pandemic: The Role of Frequent Point-of-Care Molecular    Workplace Surveillance for Miners (The Miners' Pandemic Project)</td>\n",
       "      <td>There are limited studies on the spread of SARS-CoV-2 infection in rural essential workers. This gap in knowledge must be addressed to develop and implement novel pandemic strategies to keep   rural essential workplaces open. By working with the NIH RADx-UP Coordinating and Data Collection Center, this study will provide crucial data for</td>\n",
       "      <td>Collection</td>\n",
       "      <td>GRU --- General research use</td>\n",
       "    </tr>\n",
       "    <tr>\n",
       "      <th>156</th>\n",
       "      <td>phs003037.v1.p1</td>\n",
       "      <td>Rapid Acceleration of Diagnostics - Underserved Populations (RADx-UP):    Maximizing Child Health and Learning Potential: Promoting A School    Culture of Safety in the Era of COVID-19: Feasibility of Strategic    COVID-19 Testing Protocols in At-Risk Urban Schools</td>\n",
       "      <td>We will explore the feasibility of strategic COVID-19 testing protocols in at-risk urban school settings with the goal of increasing a sense of safety for parents and staff, and elucidating   or outside of school). Note for data in RADx: Instructions for requesting individual-level data are available on RADx Data Hub at https://radx</td>\n",
       "      <td>Case Set</td>\n",
       "      <td>GRU --- General research use</td>\n",
       "    </tr>\n",
       "  </tbody>\n",
       "</table>\n",
       "<p>157 rows × 5 columns</p>\n",
       "</div>"
      ],
      "text/plain": [
       "           accession  \\\n",
       "0    phs003032.v1.p1   \n",
       "1    phs002585.v1.p1   \n",
       "2    phs003081.v1.p1   \n",
       "3    phs002618.v1.p1   \n",
       "4    phs002782.v1.p1   \n",
       "..               ...   \n",
       "152  phs002920.v1.p1   \n",
       "153  phs002945.v1.p1   \n",
       "154  phs002616.v1.p1   \n",
       "155  phs002648.v1.p1   \n",
       "156  phs003037.v1.p1   \n",
       "\n",
       "                                                                                                                                                                                                                                                                                        name  \\\n",
       "0                                                                                                                                                                  Rapid Acceleration of Diagnostics - Underserved Populations (RADx-UP):    RADx-UP Supplement-Vaccine Hesitancy and Uptake   \n",
       "1                                                                                                                                                                                                                        Rapid Acceleration of Diagnostics - Radical (RADx-rad): AICORE-kids   \n",
       "2                                                                                                                                                                                                           Rapid Acceleration of Diagnostics - Underserved Populations (RADx-UP):    COMMIT   \n",
       "3                                                                                                 Rapid Acceleration of Diagnostics - Underserved Populations (RADx-UP):    Rapid Acceleration of Acceptable COVID Testing and Care Options for    NYC Public Housing Residents (RADx NYCHA)   \n",
       "4                                                                                                                                                                                              Rapid Acceleration of Diagnostics - Radical (RADx-rad): NIEHS    Diagnostic-Prognostic RNAseq   \n",
       "..                                                                                                                                                                                                                                                                                       ...   \n",
       "152                            Rapid Acceleration of Diagnostics - Underserved Populations (RADx-UP): A    Community Health Worker Intervention to Identify and Decrease Barriers    to Pre-Procedural COVID-19 Testing Among Los Angeles County Department    of Health Safety-Net Patients   \n",
       "153                                    Rapid Acceleration of Diagnostics - Radical (RADx-rad): A Data Science    Approach to Identify and Manage Multisystem Inflammatory Syndrome in    Children (MIS-C) Associated with SARS-CoV-2 Infection and Kawasaki    Disease in Pediatric Patients   \n",
       "154  Rapid Acceleration of Diagnostics - Underserved Populations (RADx-UP):    Bridging the Evidence-to-Practice Gap: Evaluating Practice    Facilitation as a Strategy to Accelerate Translation of a    Systems-Level Adherence Intervention into Safety Net Practices/Project    Evidence   \n",
       "155    Rapid Acceleration of Diagnostics - Underserved Populations (RADx-UP):    Keeping Rural Minority 'Essential' Workplaces Open Safely During the    COVID-19 Pandemic: The Role of Frequent Point-of-Care Molecular    Workplace Surveillance for Miners (The Miners' Pandemic Project)   \n",
       "156                Rapid Acceleration of Diagnostics - Underserved Populations (RADx-UP):    Maximizing Child Health and Learning Potential: Promoting A School    Culture of Safety in the Era of COVID-19: Feasibility of Strategic    COVID-19 Testing Protocols in At-Risk Urban Schools   \n",
       "\n",
       "                                                                                                                                                                                                                                                                                                                                                                                                                                 description  \\\n",
       "0    The Georgia Center for Diabetes Translation Research Center (P30DK111024) proposes to collaborate with our RADx-UP Diabetes rural community partner and utilize locally developed and tested Georgia CEAL (1OT2HL156812-01/16-312-0217571-66105L) COVID-19 communication  -management behaviors and related outcomes (e.g., blood glucose) in individuals with uncontrolled diabetes in rural, Southwest Georgia. Note for data in RADx   \n",
       "1                        This work is directed at characterizing pediatric COVID-19 and stratifying incoming patients by projected (future) disease severity. Such stratification has several implications: immediately improving treatment planning, and as disease mechanistic   regulatory milestones intended to conform with the Emergency Use Authorization (EUA) programs in effect for SARS-CoV-2 diagnostics. Note for data in RADx   \n",
       "2                                                     In the United States underserved and socially vulnerable populations have endured higher rates and disparities of COVID-19 infection, morbidity, and mortality. This disproportionate burden has shone the light on the   sustainable model for trustworthy CEnR partnerships to address SEBI of COVID-19 testing. Note for data in RADx: Instructions for requesting individual-level   \n",
       "3                         The Rapid Acceleration of Diagnostics for Underserved Populations (RADx-UP) initiative supports supplements to individual NIH awards to increase COVID-19 testing among underserved populations. Leveraging the infrastructure of a current project   without navigation support, including home-testing strategies, on acceptance and uptake of COVID-19 screening tests. Note for data in RADx: Instructions for   \n",
       "4                                                           Infectious disease outbreaks like Coronavirus Disease 2019 (COVID-19) can overwhelm healthcare systems when screening tools are scarce or lacking. In the face of an ongoing COVID-19 pandemic and with single-plex  , long queue times, backlogs in COVID-19 diagnoses, and delayed access to specialized treatment for COVID-19 patients. The goal of this RADx funded project   \n",
       "..                                                                                                                                                                                                                                                                                                                                                                                                                                       ...   \n",
       "152                                                                           African American and Latinx communities nationally and in California not only bear a disproportionate burden of COVID-19 positive cases and deaths but are also not taking part in COVID-19 testing   intervention on trust, self-efficacy, and intent to participate in COVID-19 testing/re-testing and vaccinations. Note for data in RADx: Instructions for   \n",
       "153                                                       The primary objective of this study was to design and validate a predictive decision support system for the identification, treatment, and management of SARS-CoV-2 associated with multisystem inflammatory syndrome in   part of this study. Note for data in RADx: Instructions for requesting individual-level data are available on RADx Data Hub at https://radx-hub.nih.gov   \n",
       "154                                                                                 The COVID-19 pandemic is a major public health crisis, revealing deep and persistent racial/ethnic disparities in health. In New York City (NYC), one of the most affected cities in the   community- and structural-level determinants of testing using validated self-report measures (RADX-UP Common Data Elements, NIH PhenX Toolkit) among the same   \n",
       "155                                                                                      There are limited studies on the spread of SARS-CoV-2 infection in rural essential workers. This gap in knowledge must be addressed to develop and implement novel pandemic strategies to keep   rural essential workplaces open. By working with the NIH RADx-UP Coordinating and Data Collection Center, this study will provide crucial data for   \n",
       "156                                                                                           We will explore the feasibility of strategic COVID-19 testing protocols in at-risk urban school settings with the goal of increasing a sense of safety for parents and staff, and elucidating   or outside of school). Note for data in RADx: Instructions for requesting individual-level data are available on RADx Data Hub at https://radx   \n",
       "\n",
       "        Study Design  \\\n",
       "0           Case Set   \n",
       "1           Case Set   \n",
       "2           Case Set   \n",
       "3           Case Set   \n",
       "4           Case Set   \n",
       "..               ...   \n",
       "152         Case Set   \n",
       "153  Cross-Sectional   \n",
       "154  Cross-Sectional   \n",
       "155       Collection   \n",
       "156         Case Set   \n",
       "\n",
       "                                                            Study Consent  \n",
       "0                                            GRU --- General research use  \n",
       "1                                            GRU --- General research use  \n",
       "2                                            GRU --- General research use  \n",
       "3                                            GRU --- General research use  \n",
       "4                                            GRU --- General research use  \n",
       "..                                                                    ...  \n",
       "152                                          GRU --- General research use  \n",
       "153  GRU --- General research use, GRU-IRB --- General research use (irb)  \n",
       "154                                          GRU --- General research use  \n",
       "155                                          GRU --- General research use  \n",
       "156                                          GRU --- General research use  \n",
       "\n",
       "[157 rows x 5 columns]"
      ]
     },
     "execution_count": 7,
     "metadata": {},
     "output_type": "execute_result"
    }
   ],
   "source": [
    "print(f\"Number of studies for {query}\", studies.shape[0])\n",
    "studies"
   ]
  },
  {
   "cell_type": "code",
   "execution_count": 8,
   "id": "9a47ed6b-3dc5-4ca9-b5fb-bd0d9e7bcc28",
   "metadata": {
    "tags": []
   },
   "outputs": [],
   "source": [
    "studies[\"dbgap\"] = studies[\"accession\"].apply(lambda s: s.split(\".\")[0])"
   ]
  },
  {
   "cell_type": "code",
   "execution_count": 9,
   "id": "497de920-f0b1-4639-8527-ab95427219c7",
   "metadata": {
    "tags": []
   },
   "outputs": [
    {
     "data": {
      "text/html": [
       "<div>\n",
       "<style scoped>\n",
       "    .dataframe tbody tr th:only-of-type {\n",
       "        vertical-align: middle;\n",
       "    }\n",
       "\n",
       "    .dataframe tbody tr th {\n",
       "        vertical-align: top;\n",
       "    }\n",
       "\n",
       "    .dataframe thead th {\n",
       "        text-align: right;\n",
       "    }\n",
       "</style>\n",
       "<table border=\"1\" class=\"dataframe\">\n",
       "  <thead>\n",
       "    <tr style=\"text-align: right;\">\n",
       "      <th></th>\n",
       "      <th>accession</th>\n",
       "      <th>name</th>\n",
       "      <th>description</th>\n",
       "      <th>Study Design</th>\n",
       "      <th>Study Consent</th>\n",
       "      <th>dbgap</th>\n",
       "    </tr>\n",
       "  </thead>\n",
       "  <tbody>\n",
       "    <tr>\n",
       "      <th>0</th>\n",
       "      <td>phs003032.v1.p1</td>\n",
       "      <td>Rapid Acceleration of Diagnostics - Underserved Populations (RADx-UP):    RADx-UP Supplement-Vaccine Hesitancy and Uptake</td>\n",
       "      <td>The Georgia Center for Diabetes Translation Research Center (P30DK111024) proposes to collaborate with our RADx-UP Diabetes rural community partner and utilize locally developed and tested Georgia CEAL (1OT2HL156812-01/16-312-0217571-66105L) COVID-19 communication  -management behaviors and related outcomes (e.g., blood glucose) in individuals with uncontrolled diabetes in rural, Southwest Georgia. Note for data in RADx</td>\n",
       "      <td>Case Set</td>\n",
       "      <td>GRU --- General research use</td>\n",
       "      <td>phs003032</td>\n",
       "    </tr>\n",
       "    <tr>\n",
       "      <th>1</th>\n",
       "      <td>phs002585.v1.p1</td>\n",
       "      <td>Rapid Acceleration of Diagnostics - Radical (RADx-rad): AICORE-kids</td>\n",
       "      <td>This work is directed at characterizing pediatric COVID-19 and stratifying incoming patients by projected (future) disease severity. Such stratification has several implications: immediately improving treatment planning, and as disease mechanistic   regulatory milestones intended to conform with the Emergency Use Authorization (EUA) programs in effect for SARS-CoV-2 diagnostics. Note for data in RADx</td>\n",
       "      <td>Case Set</td>\n",
       "      <td>GRU --- General research use</td>\n",
       "      <td>phs002585</td>\n",
       "    </tr>\n",
       "    <tr>\n",
       "      <th>2</th>\n",
       "      <td>phs003081.v1.p1</td>\n",
       "      <td>Rapid Acceleration of Diagnostics - Underserved Populations (RADx-UP):    COMMIT</td>\n",
       "      <td>In the United States underserved and socially vulnerable populations have endured higher rates and disparities of COVID-19 infection, morbidity, and mortality. This disproportionate burden has shone the light on the   sustainable model for trustworthy CEnR partnerships to address SEBI of COVID-19 testing. Note for data in RADx: Instructions for requesting individual-level</td>\n",
       "      <td>Case Set</td>\n",
       "      <td>GRU --- General research use</td>\n",
       "      <td>phs003081</td>\n",
       "    </tr>\n",
       "    <tr>\n",
       "      <th>3</th>\n",
       "      <td>phs002618.v1.p1</td>\n",
       "      <td>Rapid Acceleration of Diagnostics - Underserved Populations (RADx-UP):    Rapid Acceleration of Acceptable COVID Testing and Care Options for    NYC Public Housing Residents (RADx NYCHA)</td>\n",
       "      <td>The Rapid Acceleration of Diagnostics for Underserved Populations (RADx-UP) initiative supports supplements to individual NIH awards to increase COVID-19 testing among underserved populations. Leveraging the infrastructure of a current project   without navigation support, including home-testing strategies, on acceptance and uptake of COVID-19 screening tests. Note for data in RADx: Instructions for</td>\n",
       "      <td>Case Set</td>\n",
       "      <td>GRU --- General research use</td>\n",
       "      <td>phs002618</td>\n",
       "    </tr>\n",
       "    <tr>\n",
       "      <th>4</th>\n",
       "      <td>phs002782.v1.p1</td>\n",
       "      <td>Rapid Acceleration of Diagnostics - Radical (RADx-rad): NIEHS    Diagnostic-Prognostic RNAseq</td>\n",
       "      <td>Infectious disease outbreaks like Coronavirus Disease 2019 (COVID-19) can overwhelm healthcare systems when screening tools are scarce or lacking. In the face of an ongoing COVID-19 pandemic and with single-plex  , long queue times, backlogs in COVID-19 diagnoses, and delayed access to specialized treatment for COVID-19 patients. The goal of this RADx funded project</td>\n",
       "      <td>Case Set</td>\n",
       "      <td>GRU --- General research use</td>\n",
       "      <td>phs002782</td>\n",
       "    </tr>\n",
       "  </tbody>\n",
       "</table>\n",
       "</div>"
      ],
      "text/plain": [
       "         accession  \\\n",
       "0  phs003032.v1.p1   \n",
       "1  phs002585.v1.p1   \n",
       "2  phs003081.v1.p1   \n",
       "3  phs002618.v1.p1   \n",
       "4  phs002782.v1.p1   \n",
       "\n",
       "                                                                                                                                                                                         name  \\\n",
       "0                                                                   Rapid Acceleration of Diagnostics - Underserved Populations (RADx-UP):    RADx-UP Supplement-Vaccine Hesitancy and Uptake   \n",
       "1                                                                                                                         Rapid Acceleration of Diagnostics - Radical (RADx-rad): AICORE-kids   \n",
       "2                                                                                                            Rapid Acceleration of Diagnostics - Underserved Populations (RADx-UP):    COMMIT   \n",
       "3  Rapid Acceleration of Diagnostics - Underserved Populations (RADx-UP):    Rapid Acceleration of Acceptable COVID Testing and Care Options for    NYC Public Housing Residents (RADx NYCHA)   \n",
       "4                                                                                               Rapid Acceleration of Diagnostics - Radical (RADx-rad): NIEHS    Diagnostic-Prognostic RNAseq   \n",
       "\n",
       "                                                                                                                                                                                                                                                                                                                                                                                                                               description  \\\n",
       "0  The Georgia Center for Diabetes Translation Research Center (P30DK111024) proposes to collaborate with our RADx-UP Diabetes rural community partner and utilize locally developed and tested Georgia CEAL (1OT2HL156812-01/16-312-0217571-66105L) COVID-19 communication  -management behaviors and related outcomes (e.g., blood glucose) in individuals with uncontrolled diabetes in rural, Southwest Georgia. Note for data in RADx   \n",
       "1                      This work is directed at characterizing pediatric COVID-19 and stratifying incoming patients by projected (future) disease severity. Such stratification has several implications: immediately improving treatment planning, and as disease mechanistic   regulatory milestones intended to conform with the Emergency Use Authorization (EUA) programs in effect for SARS-CoV-2 diagnostics. Note for data in RADx   \n",
       "2                                                   In the United States underserved and socially vulnerable populations have endured higher rates and disparities of COVID-19 infection, morbidity, and mortality. This disproportionate burden has shone the light on the   sustainable model for trustworthy CEnR partnerships to address SEBI of COVID-19 testing. Note for data in RADx: Instructions for requesting individual-level   \n",
       "3                       The Rapid Acceleration of Diagnostics for Underserved Populations (RADx-UP) initiative supports supplements to individual NIH awards to increase COVID-19 testing among underserved populations. Leveraging the infrastructure of a current project   without navigation support, including home-testing strategies, on acceptance and uptake of COVID-19 screening tests. Note for data in RADx: Instructions for   \n",
       "4                                                         Infectious disease outbreaks like Coronavirus Disease 2019 (COVID-19) can overwhelm healthcare systems when screening tools are scarce or lacking. In the face of an ongoing COVID-19 pandemic and with single-plex  , long queue times, backlogs in COVID-19 diagnoses, and delayed access to specialized treatment for COVID-19 patients. The goal of this RADx funded project   \n",
       "\n",
       "  Study Design                 Study Consent      dbgap  \n",
       "0     Case Set  GRU --- General research use  phs003032  \n",
       "1     Case Set  GRU --- General research use  phs002585  \n",
       "2     Case Set  GRU --- General research use  phs003081  \n",
       "3     Case Set  GRU --- General research use  phs002618  \n",
       "4     Case Set  GRU --- General research use  phs002782  "
      ]
     },
     "execution_count": 9,
     "metadata": {},
     "output_type": "execute_result"
    }
   ],
   "source": [
    "studies.head()"
   ]
  },
  {
   "cell_type": "code",
   "execution_count": 10,
   "id": "364f094f-be29-4a2d-934a-92d6659704e0",
   "metadata": {},
   "outputs": [],
   "source": [
    "dbgap_pub = pd.read_csv(\"ftp://ftp.ebi.ac.uk/pub/databases/pmc/TextMinedTerms/dbgap.csv\")"
   ]
  },
  {
   "cell_type": "code",
   "execution_count": 11,
   "id": "59964881-0987-4384-83be-158e4af09e21",
   "metadata": {
    "tags": []
   },
   "outputs": [
    {
     "data": {
      "text/html": [
       "<div>\n",
       "<style scoped>\n",
       "    .dataframe tbody tr th:only-of-type {\n",
       "        vertical-align: middle;\n",
       "    }\n",
       "\n",
       "    .dataframe tbody tr th {\n",
       "        vertical-align: top;\n",
       "    }\n",
       "\n",
       "    .dataframe thead th {\n",
       "        text-align: right;\n",
       "    }\n",
       "</style>\n",
       "<table border=\"1\" class=\"dataframe\">\n",
       "  <thead>\n",
       "    <tr style=\"text-align: right;\">\n",
       "      <th></th>\n",
       "      <th>dbgap</th>\n",
       "      <th>PMCID</th>\n",
       "      <th>EXTID</th>\n",
       "      <th>SOURCE</th>\n",
       "    </tr>\n",
       "  </thead>\n",
       "  <tbody>\n",
       "    <tr>\n",
       "      <th>0</th>\n",
       "      <td>phs000147</td>\n",
       "      <td>PMC5619686</td>\n",
       "      <td>28957327</td>\n",
       "      <td>MED</td>\n",
       "    </tr>\n",
       "    <tr>\n",
       "      <th>1</th>\n",
       "      <td>phs000383</td>\n",
       "      <td>PMC5619686</td>\n",
       "      <td>28957327</td>\n",
       "      <td>MED</td>\n",
       "    </tr>\n",
       "    <tr>\n",
       "      <th>2</th>\n",
       "      <td>phs000517</td>\n",
       "      <td>PMC5619686</td>\n",
       "      <td>28957327</td>\n",
       "      <td>MED</td>\n",
       "    </tr>\n",
       "    <tr>\n",
       "      <th>3</th>\n",
       "      <td>phs000799</td>\n",
       "      <td>PMC5619686</td>\n",
       "      <td>28957327</td>\n",
       "      <td>MED</td>\n",
       "    </tr>\n",
       "    <tr>\n",
       "      <th>4</th>\n",
       "      <td>phs000812</td>\n",
       "      <td>PMC5619686</td>\n",
       "      <td>28957327</td>\n",
       "      <td>MED</td>\n",
       "    </tr>\n",
       "  </tbody>\n",
       "</table>\n",
       "</div>"
      ],
      "text/plain": [
       "       dbgap       PMCID     EXTID SOURCE\n",
       "0  phs000147  PMC5619686  28957327    MED\n",
       "1  phs000383  PMC5619686  28957327    MED\n",
       "2  phs000517  PMC5619686  28957327    MED\n",
       "3  phs000799  PMC5619686  28957327    MED\n",
       "4  phs000812  PMC5619686  28957327    MED"
      ]
     },
     "execution_count": 11,
     "metadata": {},
     "output_type": "execute_result"
    }
   ],
   "source": [
    "dbgap_pub.head()"
   ]
  },
  {
   "cell_type": "code",
   "execution_count": 12,
   "id": "736b228d-7122-4636-bebe-752b0d9d72c9",
   "metadata": {
    "tags": []
   },
   "outputs": [],
   "source": [
    "pubs = studies.merge(dbgap_pub, on=\"dbgap\")"
   ]
  },
  {
   "cell_type": "code",
   "execution_count": 13,
   "id": "fd76949f-ef48-415c-b52c-5bfad9f502f5",
   "metadata": {
    "tags": []
   },
   "outputs": [
    {
     "name": "stdout",
     "output_type": "stream",
     "text": [
      "Number of publications: 0\n"
     ]
    },
    {
     "data": {
      "text/html": [
       "<div>\n",
       "<style scoped>\n",
       "    .dataframe tbody tr th:only-of-type {\n",
       "        vertical-align: middle;\n",
       "    }\n",
       "\n",
       "    .dataframe tbody tr th {\n",
       "        vertical-align: top;\n",
       "    }\n",
       "\n",
       "    .dataframe thead th {\n",
       "        text-align: right;\n",
       "    }\n",
       "</style>\n",
       "<table border=\"1\" class=\"dataframe\">\n",
       "  <thead>\n",
       "    <tr style=\"text-align: right;\">\n",
       "      <th></th>\n",
       "      <th>accession</th>\n",
       "      <th>name</th>\n",
       "      <th>description</th>\n",
       "      <th>Study Design</th>\n",
       "      <th>Study Consent</th>\n",
       "      <th>dbgap</th>\n",
       "      <th>PMCID</th>\n",
       "      <th>EXTID</th>\n",
       "      <th>SOURCE</th>\n",
       "    </tr>\n",
       "  </thead>\n",
       "  <tbody>\n",
       "  </tbody>\n",
       "</table>\n",
       "</div>"
      ],
      "text/plain": [
       "Empty DataFrame\n",
       "Columns: [accession, name, description, Study Design, Study Consent, dbgap, PMCID, EXTID, SOURCE]\n",
       "Index: []"
      ]
     },
     "execution_count": 13,
     "metadata": {},
     "output_type": "execute_result"
    }
   ],
   "source": [
    "print(\"Number of publications:\", pubs.shape[0])\n",
    "pubs.head(100)"
   ]
  },
  {
   "cell_type": "code",
   "execution_count": null,
   "id": "3a903584-bd8a-4e73-9aaf-a40211caedab",
   "metadata": {},
   "outputs": [],
   "source": []
  }
 ],
 "metadata": {
  "kernelspec": {
   "display_name": "Python 3 (ipykernel)",
   "language": "python",
   "name": "python3"
  },
  "language_info": {
   "codemirror_mode": {
    "name": "ipython",
    "version": 3
   },
   "file_extension": ".py",
   "mimetype": "text/x-python",
   "name": "python",
   "nbconvert_exporter": "python",
   "pygments_lexer": "ipython3",
   "version": "3.8.16"
  }
 },
 "nbformat": 4,
 "nbformat_minor": 5
}
